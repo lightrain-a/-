{
 "cells": [
  {
   "cell_type": "markdown",
   "id": "56760d79",
   "metadata": {},
   "source": [
    "字符串算法、排序算法、递归、最小生成树之prim算法、dfs算法、贪婪算法、动态规划"
   ]
  },
  {
   "cell_type": "markdown",
   "id": "asian-survey",
   "metadata": {},
   "source": [
    "### PREV-282\t杨辉三角形【第十二届】【省赛】【B组】\n",
    "参考：https://blog.csdn.net/weixin_44091134/article/details/116748883"
   ]
  },
  {
   "cell_type": "code",
   "execution_count": 18,
   "id": "gross-elder",
   "metadata": {},
   "outputs": [
    {
     "name": "stdout",
     "output_type": "stream",
     "text": [
      "20\n",
      "[[1], [1, 1], [1, 2, 1], [1, 3, 3, 1], [1, 4, 6, 4, 1], [1, 5, 10, 10, 5, 1], [1, 6, 15, 20, 1, 1, 1]]\n",
      "25\n"
     ]
    }
   ],
   "source": [
    "# 杨辉三角 超时了得分：20\n",
    "def output(n):\n",
    "    if n == 1:\n",
    "        return 1\n",
    "    else:\n",
    "        sanjiao=[]\n",
    "        for i in range(n):\n",
    "            sanjiao.append([1 for _ in range(i+1)])\n",
    "            if i >= 2:\n",
    "                for j in range(1,i):\n",
    "                    sanjiao[i][j]=sanjiao[i-1][j-1]+sanjiao[i-1][j]\n",
    "                    if sanjiao[i][j] == n:\n",
    "                        result=(1+i)*i/2+j+1\n",
    "                        print(sanjiao)\n",
    "                        return result   \n",
    "\n",
    "N=int(input())\n",
    "print(int(output(N)))"
   ]
  },
  {
   "cell_type": "code",
   "execution_count": 6,
   "id": "ignored-fleece",
   "metadata": {},
   "outputs": [
    {
     "name": "stdout",
     "output_type": "stream",
     "text": [
      "3 2\n",
      "4 3\n",
      "5 6\n",
      "6 10\n",
      "7 20\n",
      "8 35\n",
      "9 70\n",
      "10 126\n",
      "11 252\n"
     ]
    }
   ],
   "source": [
    "# 杨辉三角 二项式定理 M=C(N,i)=n!/((n-i)!i!) 超时了 得分：40\n",
    "# (sanjiao[i][j]=i!/((i-j)!j!)\n",
    "import math \n",
    "\n",
    "row = 3\n",
    "max1 = 1\n",
    "while True:\n",
    "    if row%2 !=0:\n",
    "        max1 = 2*max1\n",
    "    else:\n",
    "        max1 = 2*max1*(row-1)//row\n",
    "    print(row,max1)\n",
    "#     if max1>515927503:\n",
    "#         print(row)\n",
    "    row = row+1\n",
    "    if row >11:\n",
    "        break\n"
   ]
  },
  {
   "cell_type": "code",
   "execution_count": 14,
   "id": "cf606b30",
   "metadata": {},
   "outputs": [
    {
     "name": "stdout",
     "output_type": "stream",
     "text": [
      "6\n",
      "13\n"
     ]
    }
   ],
   "source": [
    "def C(a,b): # 计算组合值\n",
    "    res=1\n",
    "    tmp=a\n",
    "    for j in range(1,1+b):\n",
    "        res=res*tmp//j #累除取余j\n",
    "        if res > n:\n",
    "            return res  #大于n已无意义，且防止爆LL\n",
    "        tmp = tmp -1\n",
    "    return res\n",
    "\n",
    "def check(k):\n",
    "    # 二分该斜行,找到大于等于该值的第一个数\n",
    "    # 左边界2k，右边界为max(l, n)取二者最大，避免右边界小于左边界\n",
    "    l,r=k*2,max(1,n)\n",
    "    while l<r :\n",
    "        mid =l+r >>1\n",
    "        # print(mid,k)\n",
    "        if C(mid ,k)>=n:\n",
    "            r=mid\n",
    "        else:\n",
    "            l=mid+1\n",
    "    if C(r,k)!=n:\n",
    "        return False\n",
    "    print(r*(r+1)//2+k+1)\n",
    "    return True\n",
    "\n",
    "n=int(input())\n",
    "if n==1:\n",
    "    print(1)\n",
    "else:\n",
    "    k=16 # 从第16斜行枚举\n",
    "    while not check(k):\n",
    "        k=k-1"
   ]
  },
  {
   "cell_type": "markdown",
   "id": "ab49e3e4",
   "metadata": {},
   "source": [
    "# PREV-279\t时间显示【第十二届】【省赛】【B组】"
   ]
  },
  {
   "cell_type": "code",
   "execution_count": 3,
   "id": "operating-croatia",
   "metadata": {},
   "outputs": [
    {
     "name": "stdout",
     "output_type": "stream",
     "text": [
      "1111111\n",
      "00:18:31\n"
     ]
    }
   ],
   "source": [
    "n=int(input())\n",
    "n = n / 1000\n",
    "H = n // (60*60)\n",
    "M = (n-H*3600)//60\n",
    "S = n%60\n",
    "if H > 24:\n",
    "    H = H % 24\n",
    "print('%.2d:%.2d:%.2d'%(H,M,S))"
   ]
  },
  {
   "cell_type": "code",
   "execution_count": 19,
   "id": "fuzzy-wireless",
   "metadata": {},
   "outputs": [
    {
     "name": "stdout",
     "output_type": "stream",
     "text": [
      "1\n",
      "1\n",
      "13:00:01\n"
     ]
    }
   ],
   "source": [
    "print(3//2)\n",
    "print(int(3/2))\n",
    "print('%.2d:%.2d:%.2d'%(13,0,1)) #%.2d格式化输出两位整数"
   ]
  },
  {
   "cell_type": "markdown",
   "id": "desperate-canada",
   "metadata": {},
   "source": [
    "### PREV-276\t双向排序【第十二届】【省赛】【B组】"
   ]
  },
  {
   "cell_type": "code",
   "execution_count": 31,
   "id": "atmospheric-lawsuit",
   "metadata": {},
   "outputs": [
    {
     "name": "stdout",
     "output_type": "stream",
     "text": [
      "3 3\n",
      "0 3\n",
      "[3, 2, 1]\n",
      "1 2\n",
      "[3, 1, 2]\n",
      "0 2\n",
      "[3, 1, 2]\n",
      "3 1 2 "
     ]
    }
   ],
   "source": [
    "# 超时 得分60\n",
    "def sheng(num,x):\n",
    "    a = sorted(num[x-1:])\n",
    "    num[x-1:]=a\n",
    "#     print(num)\n",
    "    return num\n",
    "\n",
    "def jiang(num,x):\n",
    "    b = sorted(num[:x],reverse=True)\n",
    "    num[:x]=b\n",
    "    return num\n",
    "\n",
    "n,m=map(int,input().split())\n",
    "num=[i+1 for i in range(n)]\n",
    "for i in range(m):\n",
    "    p,q=map(int,input().split())\n",
    "    if p == 0:\n",
    "        num = jiang(num,q)\n",
    "    else:\n",
    "        num = sheng(num,q)\n",
    "for i in range(n):\n",
    "    print(num[i],end=' ')"
   ]
  },
  {
   "cell_type": "markdown",
   "id": "royal-fleet",
   "metadata": {},
   "source": [
    "num[x-1:x]\n",
    "\n",
    "左闭右开 (x-1,x-1)"
   ]
  },
  {
   "cell_type": "code",
   "execution_count": 15,
   "id": "8bba25b6",
   "metadata": {},
   "outputs": [
    {
     "name": "stdout",
     "output_type": "stream",
     "text": [
      "3 3\n",
      "0 3\n",
      "1 2\n",
      "0 2\n",
      "3 1 2\n"
     ]
    }
   ],
   "source": [
    "if __name__ == '__main__':\n",
    "\tn, m = map(int, input().split())\n",
    "\tnums = [i + 1 for i in range(n)]\n",
    "\tseq = []  # 用于存储操作序列\n",
    "\tfor _ in range(m):\n",
    "\t\tp, q = map(int, input().split())\n",
    "\t\tif p == 0:\n",
    "\t\t\twhile seq and seq[-1][0] == 0:  \n",
    "\t\t\t\tq = max(q, seq[-1][1])\n",
    "\t\t\t\tseq.pop()\n",
    "\t\t\twhile len(seq) > 1 and seq[-2][1] <= q:  \n",
    "\t\t\t\tseq.pop()\n",
    "\t\t\t\tseq.pop()\n",
    "\t\t\tseq.append((0, q))\n",
    "\t\telif seq:  \n",
    "\t\t\twhile seq and seq[-1][0] == 1: \n",
    "\t\t\t\tq = min(q, seq[-1][1])\n",
    "\t\t\t\tseq.pop()\n",
    "\t\t\twhile len(seq) > 1 and seq[-2][1] >= q:  \n",
    "\t\t\t\tseq.pop()\n",
    "\t\t\t\tseq.pop()\n",
    "\t\t\tseq.append((1, q))\n",
    "\n",
    "\tk, left, right = n, 1, n\n",
    "\tfor i in range(len(seq)):\n",
    "\t\tif seq[i][0] == 0:  # 前缀降序\n",
    "\t\t\twhile right > seq[i][1] and left <= right:\n",
    "\t\t\t\tnums[right - 1] = k\t\t# 从后往前设置\n",
    "\t\t\t\tright -= 1\n",
    "\t\t\t\tk -= 1\n",
    "\t\telse:  # 后缀升序\n",
    "\t\t\twhile left < seq[i][1] and left <= right:\n",
    "\t\t\t\tnums[left - 1] = k\t\t# 从前往后设置\n",
    "\t\t\t\tleft += 1\n",
    "\t\t\t\tk -= 1\n",
    "\t\tif left > right:\n",
    "\t\t\tbreak\n",
    "\n",
    "\tif len(seq) % 2:   # 最后一次操作为前缀降序\n",
    "\t\twhile left <= right:\n",
    "\t\t\tnums[left - 1] = k\n",
    "\t\t\tleft += 1\n",
    "\t\t\tk -= 1\n",
    "\telse:\t\t\t\t# 最后一次操作为后缀升序\n",
    "\t\twhile left <= right:\n",
    "\t\t\tnums[right - 1] = k\n",
    "\t\t\tright -= 1\n",
    "\t\t\tk -= 1\n",
    "\n",
    "\tprint(' '.join(map(str, nums)))"
   ]
  },
  {
   "cell_type": "markdown",
   "id": "strong-bishop",
   "metadata": {},
   "source": [
    "### PREV-271\t括号序列【第十二届】【省赛】【B组】"
   ]
  },
  {
   "cell_type": "code",
   "execution_count": null,
   "id": "secure-george",
   "metadata": {},
   "outputs": [],
   "source": []
  },
  {
   "cell_type": "markdown",
   "id": "western-locator",
   "metadata": {},
   "source": [
    "### PREV-263\t砝码称重【第十二届】【省赛】【B组】"
   ]
  },
  {
   "cell_type": "code",
   "execution_count": 18,
   "id": "spoken-baptist",
   "metadata": {},
   "outputs": [
    {
     "name": "stdout",
     "output_type": "stream",
     "text": [
      "[[0, 0, 0], [0, 0, 0]]\n"
     ]
    }
   ],
   "source": [
    "a = [[0 for _ in range(3)]for _ in range(2)]\n",
    "print(a)"
   ]
  },
  {
   "cell_type": "code",
   "execution_count": 19,
   "id": "defensive-houston",
   "metadata": {},
   "outputs": [
    {
     "name": "stdout",
     "output_type": "stream",
     "text": [
      "3\n",
      "1 4 6\n",
      "10\n"
     ]
    }
   ],
   "source": [
    "# 超时 得分80\n",
    "n = int(input())\n",
    "array = list(map(int, input().split()))\n",
    "\n",
    "sum1 = sum(array)\n",
    "a_len = len(array)\n",
    "ans = 0\n",
    "dp = [[0 for i in range(sum1+1)] for j in range(a_len)]\n",
    "\n",
    "dp[0][array[0]]=1 # no1\n",
    "\n",
    "for i in range(1,a_len):\n",
    "    for j in range(1,sum1+1):\n",
    "        dp[i][j]=dp[i-1][j] # copy 对于当前的复制前一个的重量\n",
    "    dp[i][array[i]]=1 # 当前状态是可称的\n",
    "    for j in range(1, sum1+1): # 最大重量为所有砝码重量总和\n",
    "        if(dp[i-1][j]): #pre=1 上一个状态的重量\n",
    "            dp[i][j+array[i]] = 1 # 上一状态的重量在加上当前重量\n",
    "            dp[i][abs(j-array[i])]=1 # 上一个状态的重量减去当前状态的重量\n",
    "\n",
    "for i in range(1,sum1+1):\n",
    "    if(dp[n-1][i]):\n",
    "        ans += 1\n",
    "\n",
    "print(ans)\n",
    "# print(dp)"
   ]
  },
  {
   "cell_type": "code",
   "execution_count": 20,
   "id": "62a45b72",
   "metadata": {},
   "outputs": [
    {
     "name": "stdout",
     "output_type": "stream",
     "text": [
      "3\n",
      "1 4 6\n",
      "10\n"
     ]
    }
   ],
   "source": [
    "n = eval(input())\n",
    "weights = [eval(x) for x in input().split()]\n",
    "\n",
    "def solution(weights):\n",
    "\tcounts = set()\n",
    "\tfor weight in weights:\n",
    "\t\tto_add = []\n",
    "\t\tto_add.append(weight)\n",
    "\t\tfor count in counts:\n",
    "\t\t\tsame = weight  + count\n",
    "\t\t\tdifferent = abs(weight - count)\n",
    "\t\t\tif same not in counts:\n",
    "\t\t\t\tto_add.append(same)\n",
    "\t\t\tif different not in counts:\n",
    "\t\t\t\tto_add.append(different)\n",
    "\t\tfor new_count in to_add:\n",
    "\t\t\tcounts.add(new_count)\n",
    "\tresult = len(counts)\n",
    "\tif 0 in counts:\n",
    "\t\treturn result -1 \n",
    "\treturn result\n",
    "\n",
    "print(solution(weights))"
   ]
  },
  {
   "cell_type": "markdown",
   "id": "1820ecbe",
   "metadata": {},
   "source": [
    "# PREV-226\t回文日期【第十一届】【省赛】【B组】"
   ]
  },
  {
   "cell_type": "markdown",
   "id": "472388d2",
   "metadata": {},
   "source": [
    "解题思路\n",
    "需要给出输入日期的 下一个回文日期 和 下一个 ABABBABA 型的日期 。\n",
    "所以从输入的数开始，每次循环+1。\n",
    "\n",
    "用 date 表示输入的数。\n",
    "输出的第一个数，需要判断 date 是否为合法日期和回文数。\n",
    "输出的第二个数，除了需要上面的判断外，还需要判断是否为 ABABBABA 型的数。\n",
    "\n",
    "我们可以使用3个函数判断以上三个条件\n",
    "\n",
    "一、判断是否为合法日期\n",
    "判断一个数是否为合法日期，只需要看月份和天数是否能够合法，比如：\n",
    "1、3、5、7、8、10、12月，有31天；\n",
    "4、6、9、11月，有30天；\n",
    "2月 需要单独进行判断，如果年份为 闰年 ，2月有29天，否则2月只有28天。\n",
    "\n",
    "二、判断是否为回文数\n",
    "\n",
    "法1：将一个数直接逆序后判断是否相等\n",
    "\n",
    "法2：\n",
    "将数字转化为字符串，定义两个指针，分别在左端和右端。\n",
    "判断左右两端的字符是否一样，如果一样则左右指针都向内移动一位，依次进行判断。\n",
    "只要有一位不相同，就可以直接返回 false 。\n",
    "两个指针相遇的时候，代表字符串内的全部字符已经比较完毕，没有需要不相同的，返回 true 。\n",
    "\n",
    "三、判断 ABABBABA 型数\n",
    "\n",
    "法1：\n",
    "\n",
    "直接将这个数分解“强行”判断\n",
    "\n",
    "法2：\n",
    "只需判断字符串的第 0 , 2 , 5 , 7 位是否相同，和字符串的第 1 , 3 , 4 , 6  位是否相同\n",
    "\n",
    "参考：https://blog.csdn.net/ZZZWWWFFF_/article/details/122867786"
   ]
  },
  {
   "cell_type": "code",
   "execution_count": 28,
   "id": "3e9beb5b",
   "metadata": {},
   "outputs": [
    {
     "name": "stdout",
     "output_type": "stream",
     "text": [
      "20200202\n",
      "20211202\n",
      "21211212\n"
     ]
    }
   ],
   "source": [
    "a=['01','02','03','04','05','06','07','08','09','10','11','12']#月份\n",
    "b=['01', '02', '03', '04', '05', '06', '07', '08', '09', '10', '11', '12', '13', '14', '15', '16', '17', '18', '19', '20', '21', '22', '23', '24', '25', '26', '27', '28', '29', '30', '31']#日期\n",
    "s=[]\n",
    "for i in range(1000,9000): # 月份+日期\n",
    "    if str(i)[::-1][:2] in a and str(i)[::-1][2:] in b: # a是月份，b是日期\n",
    "        # print(str(i),str(i)[::-1])\n",
    "        s.append(str(i)+str(i)[::-1]) # str(i)[::-1]为回文年份\n",
    "        \n",
    "for i in s:#去除不合法二月日期\n",
    "    if i[4:6]=='02':\n",
    "        if int(i)%400!=0 and int(i[6:])>28:\n",
    "            s.remove(i)\n",
    "        if int(i)%400==0 and int(i[6:])>29:\n",
    "            s.remove(i)\n",
    "big=['01','03','05','07','08','10','12']\n",
    "small=['02','04','06','09','11']\n",
    "for i in s:#去除不合法大小月\n",
    "    if i[4:6] in small and int(i[6:])>30:\n",
    "        s.remove(i)\n",
    "    if i[4:6] in big and int(i[6:])>31:\n",
    "        s.remove(i)\n",
    "        \n",
    "N=int(input())\n",
    "for i in s: # 判断回文日期\n",
    "    if int(i)>N:\n",
    "        print(i)\n",
    "        break\n",
    "for j in s: # 判断 ABABBABA 型数\n",
    "    if int(j)>N and j[:2]==j[2:4] and j[0]!=j[1]:\n",
    "        print(j)\n",
    "        break"
   ]
  },
  {
   "cell_type": "code",
   "execution_count": null,
   "id": "2ef70b4a",
   "metadata": {},
   "outputs": [],
   "source": [
    "print(str(i)[::-1][:2]"
   ]
  },
  {
   "cell_type": "markdown",
   "id": "bff4b146",
   "metadata": {},
   "source": [
    "## 对称迷宫"
   ]
  },
  {
   "cell_type": "code",
   "execution_count": 1,
   "id": "e62d4078",
   "metadata": {},
   "outputs": [
    {
     "name": "stdout",
     "output_type": "stream",
     "text": [
      "3\n",
      "ABA\n",
      "BBB\n",
      "ABA\n",
      "2\n"
     ]
    }
   ],
   "source": [
    "from collections import defaultdict\n",
    "\n",
    "dx=[1,0,-1,0]\n",
    "dy=[0,1,0,-1]\n",
    "\n",
    "dic=defaultdict(int)\n",
    "n=int(input())\n",
    "\n",
    "def dfs1(x,y,step,path):   \n",
    "    if x+y==n-1:\n",
    "        dic[path]=1\n",
    "        vis[x][path]=1\n",
    "        return\n",
    "    \n",
    "    for i in range(0,2):\n",
    "        if x+dx[i]<n and x+dx[i]>=0 and y+dy[i]<n and y+dy[i]>=0 :\n",
    "            dfs1(x+dx[i],y+dy[i],step+1,path+mp[x+dx[i]][y+dy[i]])\n",
    "        \n",
    "ans=int(0)\n",
    "\n",
    "def dfs2(x,y,step,path):\n",
    "    global ans\n",
    "    \n",
    "    if x+y==n-1:\n",
    "        if dic[path]==1 and vis[x][path]==1 :\n",
    "            ans+=1\n",
    "            dic[path]=0\n",
    "        return\n",
    "    \n",
    "    for i in range(2,4):\n",
    "        if x+dx[i]<n and x+dx[i]>=0 and y+dy[i]<n and y+dy[i]>=0 :\n",
    "            dfs2(x+dx[i],y+dy[i],step+1,path+mp[x+dx[i]][y+dy[i]])      \n",
    "\n",
    "mp=[str(\"\") for i in range(n)]\n",
    "vis=[defaultdict(int) for j in range(n)]\n",
    "for i in range(0,n):\n",
    "    mp[i]=input()\n",
    "\n",
    "dfs1(0,0,1,\"\"+mp[0][0])\n",
    "dfs2(n-1,n-1,1,\"\"+mp[n-1][n-1])\n",
    "print(ans)"
   ]
  },
  {
   "cell_type": "code",
   "execution_count": null,
   "id": "5e7b8e45",
   "metadata": {},
   "outputs": [],
   "source": []
  }
 ],
 "metadata": {
  "kernelspec": {
   "display_name": "Python 3 (ipykernel)",
   "language": "python",
   "name": "python3"
  },
  "language_info": {
   "codemirror_mode": {
    "name": "ipython",
    "version": 3
   },
   "file_extension": ".py",
   "mimetype": "text/x-python",
   "name": "python",
   "nbconvert_exporter": "python",
   "pygments_lexer": "ipython3",
   "version": "3.9.7"
  }
 },
 "nbformat": 4,
 "nbformat_minor": 5
}
