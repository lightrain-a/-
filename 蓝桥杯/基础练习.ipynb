{
 "cells": [
  {
   "cell_type": "markdown",
   "id": "secret-forwarding",
   "metadata": {},
   "source": [
    "### BASIC-01\tA+B问题\n",
    "\n",
    "1.输入A、B，输出A+B。\n",
    "\n",
    "输入格式:输入的第一行包括两个整数，由空格分隔，分别表示A、B。"
   ]
  },
  {
   "cell_type": "code",
   "execution_count": 1,
   "id": "plain-potter",
   "metadata": {},
   "outputs": [
    {
     "name": "stdout",
     "output_type": "stream",
     "text": [
      "12 34\n",
      "46\n"
     ]
    }
   ],
   "source": [
    "a, b = map(int, input().split())\n",
    "print(a + b)"
   ]
  },
  {
   "cell_type": "code",
   "execution_count": 2,
   "id": "incomplete-setting",
   "metadata": {},
   "outputs": [
    {
     "name": "stdout",
     "output_type": "stream",
     "text": [
      "12 34\n",
      "46\n"
     ]
    }
   ],
   "source": [
    "a = input().split()\n",
    "print(int(a[0])+int(a[1]))"
   ]
  },
  {
   "cell_type": "markdown",
   "id": "graphic-brown",
   "metadata": {},
   "source": [
    "### BASIC-02\t序列求和\t入门 求和公式\n",
    "问题描述\n",
    "求1+2+3+...+n的值。\n",
    "\n",
    "输入格式\n",
    "输入包括一个整数n。\n",
    "\n",
    "输出格式\n",
    "输出一行，包括一个整数，表示1+2+3+...+n的值。\n",
    "\n",
    "样例输入\n",
    "4\n",
    "\n",
    "样例输出\n",
    "10"
   ]
  },
  {
   "cell_type": "code",
   "execution_count": 3,
   "id": "touched-framing",
   "metadata": {},
   "outputs": [
    {
     "name": "stdout",
     "output_type": "stream",
     "text": [
      "4\n",
      "10\n"
     ]
    }
   ],
   "source": [
    "n=int(input())\n",
    "sum1=0\n",
    "for i in range(1,n+1):\n",
    "    sum1=sum1+i\n",
    "print(sum1)"
   ]
  },
  {
   "cell_type": "code",
   "execution_count": 9,
   "id": "periodic-israel",
   "metadata": {},
   "outputs": [
    {
     "name": "stdout",
     "output_type": "stream",
     "text": [
      "4\n",
      "10\n"
     ]
    }
   ],
   "source": [
    "# 直接循环 然后超时了\n",
    "n=int(input())\n",
    "sum2=n*(n+1)/2\n",
    "print(int(sum2))"
   ]
  },
  {
   "cell_type": "markdown",
   "id": "bridal-upper",
   "metadata": {},
   "source": [
    "### BASIC-03\t圆的面积\t入门 实数输出\n",
    "问题描述\n",
    "给定圆的半径r，求圆的面积。\n",
    "\n",
    "输入格式\n",
    "输入包含一个整数r，表示圆的半径。\n",
    "\n",
    "输出格式\n",
    "输出一行，包含一个实数，四舍五入保留小数点后7位，表示圆的面积。\n",
    "说明：在本题中，输入是一个整数，但是输出是一个实数。\n",
    "\n",
    "对于实数输出的问题，请一定看清楚实数输出的要求，比如本题中要求保留小数点后7位，则你的程序必须严格的输出7位小数，输出过多或者过少的小数位数都是不行的，都会被认为错误。\n",
    "\n",
    "实数输出的问题如果没有特别说明，舍入都是按四舍五入进行。\n",
    "\n",
    "样例输入\n",
    "4\n",
    "\n",
    "样例输出\n",
    "50.2654825"
   ]
  },
  {
   "cell_type": "code",
   "execution_count": 16,
   "id": "color-native",
   "metadata": {},
   "outputs": [
    {
     "name": "stdout",
     "output_type": "stream",
     "text": [
      "44\n",
      "6082.1233773\n"
     ]
    }
   ],
   "source": [
    "import math\n",
    "r=int(input())\n",
    "s=math.pi*r*r\n",
    "print('%.7f'%s)"
   ]
  },
  {
   "cell_type": "markdown",
   "id": "african-hebrew",
   "metadata": {},
   "source": [
    "### BASIC-04\tFibonacci数列\t入门 数列 取模\n",
    "问题描述\n",
    "Fibonacci数列的递推公式为：Fn=Fn-1+Fn-2，其中F1=F2=1。\n",
    "\n",
    "当n比较大时，Fn也非常大，现在我们想知道，Fn除以10007的余数是多少。\n",
    "\n",
    "输入格式\n",
    "输入包含一个整数n。\n",
    "\n",
    "输出格式\n",
    "输出一行，包含一个整数，表示Fn除以10007的余数。\n",
    "说明：在本题中，答案是要求Fn除以10007的余数，因此我们只要能算出这个余数即可，而不需要先计算出Fn的准确值，再将计算的结果除以10007取余数，直接计算余数往往比先算出原数再取余简单。\n",
    "\n",
    "样例输入\n",
    "10\n",
    "\n",
    "样例输出\n",
    "55"
   ]
  },
  {
   "cell_type": "code",
   "execution_count": 11,
   "id": "toxic-kenya",
   "metadata": {},
   "outputs": [
    {
     "name": "stdout",
     "output_type": "stream",
     "text": [
      "55\n",
      "2091\n"
     ]
    }
   ],
   "source": [
    "n=int(input())\n",
    "f=[1 for i in range(n)]\n",
    "# print(f)\n",
    "for i in range(n):\n",
    "    if i >= 2:\n",
    "        f[i]=(f[i-1]+f[i-2])%10007\n",
    "print(f[n-1])"
   ]
  },
  {
   "cell_type": "markdown",
   "id": "changing-finger",
   "metadata": {},
   "source": [
    "### BASIC-1\t闰年判断\t条件判断\n",
    "问题描述\n",
    "给定一个年份，判断这一年是不是闰年。\n",
    "\n",
    "当以下情况之一满足时，这一年是闰年：\n",
    "\n",
    "1. 年份是4的倍数而不是100的倍数；\n",
    "\n",
    "2. 年份是400的倍数。\n",
    "\n",
    "其他的年份都不是闰年。\n",
    "\n",
    "输入格式\n",
    "输入包含一个整数y，表示当前的年份。\n",
    "\n",
    "输出格式\n",
    "输出一行，如果给定的年份是闰年，则输出yes，否则输出no。\n",
    "说明：当试题指定你输出一个字符串作为结果（比如本题的yes或者no，你需要严格按照试题中给定的大小写，写错大小写将不得分。\n",
    "\n",
    "样例输入\n",
    "2013\n",
    "\n",
    "样例输出\n",
    "no"
   ]
  },
  {
   "cell_type": "code",
   "execution_count": 19,
   "id": "raised-charge",
   "metadata": {},
   "outputs": [
    {
     "name": "stdout",
     "output_type": "stream",
     "text": [
      "2000\n",
      "yes\n"
     ]
    }
   ],
   "source": [
    "y=int(input())\n",
    "if (y%4 == 0 and y%100 !=0) or y%400 == 0:\n",
    "    print(\"yes\")\n",
    "else:\n",
    "    print(\"no\")"
   ]
  },
  {
   "cell_type": "markdown",
   "id": "upset-biodiversity",
   "metadata": {},
   "source": [
    "### BASIC-2\t01字串\n",
    "\n",
    "2.对于长度为5位的一个01串，每一位都可能是0或1，一共有32种可能。它们的前几个是：\n",
    "\n",
    "00000\n",
    "\n",
    "00001\n",
    "\n",
    "00010\n",
    "\n",
    "请按从小到大的顺序输出这32种01串。"
   ]
  },
  {
   "cell_type": "raw",
   "id": "funky-liquid",
   "metadata": {},
   "source": [
    "{0 : 0 > 3}\n",
    "│  ││ │\n",
    "│  ││ └─ Width of 3\n",
    "│  │└─ Align Right\n",
    "│  └─ Fill with '0'\n",
    "└─ Element index"
   ]
  },
  {
   "cell_type": "code",
   "execution_count": 3,
   "id": "emotional-parliament",
   "metadata": {},
   "outputs": [
    {
     "name": "stdout",
     "output_type": "stream",
     "text": [
      "00000\n",
      "00001\n",
      "00010\n",
      "00011\n",
      "00100\n",
      "00101\n",
      "00110\n",
      "00111\n",
      "01000\n",
      "01001\n",
      "01010\n",
      "01011\n",
      "01100\n",
      "01101\n",
      "01110\n",
      "01111\n",
      "10000\n",
      "10001\n",
      "10010\n",
      "10011\n",
      "10100\n",
      "10101\n",
      "10110\n",
      "10111\n",
      "11000\n",
      "11001\n",
      "11010\n",
      "11011\n",
      "11100\n",
      "11101\n",
      "11110\n",
      "11111\n"
     ]
    }
   ],
   "source": [
    "for i in range(32):\n",
    "    # print(f\"{bin(i)[2:].zfill(5)}\")\n",
    "    print(\"{0:0>5}\".format(format(i, 'b')))\n",
    "\n",
    "# zfill填充，不管结果多少位，都把他填充到5位数"
   ]
  },
  {
   "cell_type": "code",
   "execution_count": 4,
   "id": "identified-width",
   "metadata": {},
   "outputs": [
    {
     "name": "stdout",
     "output_type": "stream",
     "text": [
      "00000\n",
      "00001\n",
      "00010\n",
      "00011\n",
      "00100\n",
      "00101\n",
      "00110\n",
      "00111\n",
      "01000\n",
      "01001\n",
      "01010\n",
      "01011\n",
      "01100\n",
      "01101\n",
      "01110\n",
      "01111\n",
      "10000\n",
      "10001\n",
      "10010\n",
      "10011\n",
      "10100\n",
      "10101\n",
      "10110\n",
      "10111\n",
      "11000\n",
      "11001\n",
      "11010\n",
      "11011\n",
      "11100\n",
      "11101\n",
      "11110\n",
      "11111\n"
     ]
    }
   ],
   "source": [
    "for i in range(32):\n",
    "    # print(f\"{bin(i)[2:].zfill(5)}\")\n",
    "    print(\"{0:0>5}\".format(format(i, 'b'))) # 'b'按位输出\n",
    "\n",
    "# zfill填充，不管结果多少位，都把他填充到5位数"
   ]
  },
  {
   "cell_type": "markdown",
   "id": "distant-drama",
   "metadata": {},
   "source": [
    "### BASIC-3\t字母图形\t循环 字符串\n",
    "问题描述\n",
    "利用字母可以组成一些美丽的图形，下面给出了一个例子：\n",
    "\n",
    "ABCDEFG\n",
    "\n",
    "BABCDEF\n",
    "\n",
    "CBABCDE\n",
    "\n",
    "DCBABCD\n",
    "\n",
    "EDCBABC\n",
    "\n",
    "这是一个5行7列的图形，请找出这个图形的规律，并输出一个n行m列的图形。\n",
    "\n",
    "输入格式\n",
    "输入一行，包含两个整数n和m，分别表示你要输出的图形的行数的列数。\n",
    "\n",
    "输出格式\n",
    "输出n行，每个m个字符，为你的图形。\n",
    "\n",
    "样例输入\n",
    "5 7\n",
    "\n",
    "样例输出\n",
    "ABCDEFG\n",
    "BABCDEF\n",
    "CBABCDE\n",
    "DCBABCD\n",
    "EDCBABC\n",
    "\n",
    "数据规模与约定\n",
    "1 <= n, m <= 26。"
   ]
  },
  {
   "cell_type": "code",
   "execution_count": 7,
   "id": "defensive-omaha",
   "metadata": {},
   "outputs": [
    {
     "name": "stdout",
     "output_type": "stream",
     "text": [
      "5 7\n",
      "ABCDEFG\n",
      "BABCDEF\n",
      "CBABCDE\n",
      "DCBABCD\n",
      "EDCBABC\n"
     ]
    }
   ],
   "source": [
    "n, m = map(int, input().split())\n",
    "\n",
    "graph = [[0 for j in range(m)] for i in range(n)] # 空二维数组\n",
    "\n",
    "for i in range(n):\n",
    "    for j in range(m):\n",
    "        if j >= i: # 数组中字母规律\n",
    "            graph[i][j] = chr(ord('A') + j - i)\n",
    "        else:\n",
    "            graph[i][j] = chr(ord('A') + i - j)\n",
    "\n",
    "for i in range(n): # 输出二维数组\n",
    "    for j in range(m):\n",
    "        print(graph[i][j], end='')\n",
    "    print()"
   ]
  },
  {
   "cell_type": "code",
   "execution_count": 8,
   "id": "damaged-outdoors",
   "metadata": {},
   "outputs": [
    {
     "name": "stdout",
     "output_type": "stream",
     "text": [
      "B\n",
      "@\n"
     ]
    }
   ],
   "source": [
    "print(chr(ord('A') +1))\n",
    "print(chr(ord('A') -1))"
   ]
  },
  {
   "cell_type": "markdown",
   "id": "unlikely-brisbane",
   "metadata": {},
   "source": [
    "字符转ASCII码函数：ord('A')->64\n",
    "ASCII码转字符函数：chr(64)->A"
   ]
  },
  {
   "cell_type": "markdown",
   "id": "powered-tower",
   "metadata": {},
   "source": [
    "### BASIC-4\t数列特征\n",
    "给出n个数，找出这n个数的最大值，最小值，和。\n",
    "\n",
    "输入格式\n",
    "第一行为整数n，表示数的个数。\n",
    "\n",
    "第二行有n个数，为给定的n个数，每个数的绝对值都小于10000。\n",
    "\n",
    "输出格式\n",
    "输出三行，每行一个整数。第一行表示这些数中的最大值，第二行表示这些数中的最小值，第三行表示这些数的和。\n",
    "\n",
    "样例输入\n",
    "\n",
    "5\n",
    "\n",
    "1 3 -2 4 5\n",
    "\n",
    "样例输出\n",
    "\n",
    "5\n",
    "\n",
    "-2\n",
    "\n",
    "11"
   ]
  },
  {
   "cell_type": "code",
   "execution_count": 13,
   "id": "express-montgomery",
   "metadata": {},
   "outputs": [
    {
     "name": "stdout",
     "output_type": "stream",
     "text": [
      "2\n",
      "1 2\n",
      "2\n",
      "1\n",
      "3\n"
     ]
    }
   ],
   "source": [
    "n=int(input())\n",
    "arr=list(map(int,input().split()))\n",
    "# print(arr)\n",
    "print(max(arr))\n",
    "print(min(arr))\n",
    "print(sum(arr))"
   ]
  },
  {
   "cell_type": "markdown",
   "id": "swedish-regression",
   "metadata": {},
   "source": [
    "### BASIC-5\t查找整数 循环 判断\n",
    "给出一个包含n个整数的数列，问整数a在数列中的第一次出现是第几个。\n",
    "\n",
    "输入格式\n",
    "\n",
    "第一行包含一个整数n。\n",
    "\n",
    "第二行包含n个非负整数，为给定的数列，数列中的每个数都不大于10000。\n",
    "\n",
    "第三行包含一个整数a，为待查找的数。\n",
    "\n",
    "输出格式\n",
    "\n",
    "如果a在数列中出现了，输出它第一次出现的位置(位置从1开始编号)，否则输出-1。\n",
    "\n",
    "样例输入\n",
    "\n",
    "6\n",
    "\n",
    "1 9 4 8 3 9\n",
    "\n",
    "9\n",
    "\n",
    "样例输出\n",
    "\n",
    "2"
   ]
  },
  {
   "cell_type": "code",
   "execution_count": 18,
   "id": "continental-kidney",
   "metadata": {},
   "outputs": [
    {
     "name": "stdout",
     "output_type": "stream",
     "text": [
      "1\n",
      "34\n",
      "0\n",
      "-1\n"
     ]
    }
   ],
   "source": [
    "n=int(input())\n",
    "arr=list(map(int,input().split()))\n",
    "a=int(input())\n",
    "for i in range(len(arr)):\n",
    "    if arr[i] == a:\n",
    "        print(i+1)\n",
    "        break\n",
    "    elif i == len(arr)-1: #注意：n=len(arr)-1\n",
    "        print(-1)"
   ]
  },
  {
   "cell_type": "markdown",
   "id": "scenic-galaxy",
   "metadata": {},
   "source": [
    "### BASIC-6\t杨辉三角形\t基础练习 二维数组\n",
    "问题描述\n",
    "\n",
    "杨辉三角形又称Pascal三角形，它的第i+1行是(a+b)i的展开式的系数。\n",
    "\n",
    "性质：三角形中的每个数字等于它两肩上的数字相加。\n",
    "\n",
    "输入格式\n",
    "\n",
    "输入包含一个数n。\n",
    "\n",
    "输出格式\n",
    "\n",
    "输出杨辉三角形的前n行。每一行从这一行的第一个数开始依次输出，中间使用一个空格分隔。请不要在前面输出多余的空格。\n",
    "\n",
    "样例输入\n",
    "\n",
    "4\n",
    "\n",
    "样例输出\n",
    "　　\n",
    "1\n",
    "\n",
    "1 1\n",
    "　　\n",
    "1 2 1\n",
    "　　\n",
    "1 3 3 1"
   ]
  },
  {
   "cell_type": "code",
   "execution_count": 46,
   "id": "eight-discrimination",
   "metadata": {},
   "outputs": [
    {
     "name": "stdout",
     "output_type": "stream",
     "text": [
      "3\n",
      "1 \n",
      "1 1 \n",
      "1 2 1 \n"
     ]
    }
   ],
   "source": [
    "n=int(input())\n",
    "\n",
    "sanjiao=[]\n",
    "for i in range(n): #定义空杨辉三角\n",
    "    sanjiao.append([1 for j in range(i+1)])\n",
    "#print(sanjiao)\n",
    "\n",
    "for i in range(n):\n",
    "    for j in range(i+1):\n",
    "        if i >=2 and j >= 1 and j < i:\n",
    "            # print(\"i,j\",i,j)\n",
    "            sanjiao[i][j] = sanjiao[i-1][j-1] + sanjiao[i-1][j]\n",
    "        print(sanjiao[i][j],end=' ')\n",
    "    print( )"
   ]
  },
  {
   "cell_type": "markdown",
   "id": "acknowledged-destination",
   "metadata": {},
   "source": [
    "### BASIC-7\t特殊的数字\t循环 判断 数位\n",
    "问题描述\n",
    "\n",
    "153是一个非常特殊的数，它等于它的每位数字的立方和，即153=1 * 1 * 1+5 * 5 * 5+3 * 3 * 3。编程求所有满足这种条件的三位十进制数。\n",
    "\n",
    "输出格式\n",
    "\n",
    "按从小到大的顺序输出满足条件的三位十进制数，每个数占一行。"
   ]
  },
  {
   "cell_type": "code",
   "execution_count": 51,
   "id": "dirty-montgomery",
   "metadata": {},
   "outputs": [
    {
     "name": "stdout",
     "output_type": "stream",
     "text": [
      "153\n",
      "370\n",
      "371\n",
      "407\n"
     ]
    }
   ],
   "source": [
    "for i in range(1,10):\n",
    "    for j in range(0,10):\n",
    "        for k in range(0,10):\n",
    "            if (i*100+j*10+k) == (i**3+j**3+k**3):\n",
    "                print(i*100+j*10+k)"
   ]
  },
  {
   "cell_type": "markdown",
   "id": "naval-salmon",
   "metadata": {},
   "source": [
    "### BASIC-8\t回文数\t循环 判断 回文数\n",
    "问题描述\n",
    "\n",
    "1221是一个非常特殊的数，它从左边读和从右边读是一样的，编程求所有这样的四位十进制数。\n",
    "\n",
    "输出格式\n",
    "\n",
    "按从小到大的顺序输出满足条件的四位十进制数。"
   ]
  },
  {
   "cell_type": "code",
   "execution_count": 52,
   "id": "homeless-allen",
   "metadata": {},
   "outputs": [
    {
     "name": "stdout",
     "output_type": "stream",
     "text": [
      "1001\n",
      "1111\n",
      "1221\n",
      "1331\n",
      "1441\n",
      "1551\n",
      "1661\n",
      "1771\n",
      "1881\n",
      "1991\n",
      "2002\n",
      "2112\n",
      "2222\n",
      "2332\n",
      "2442\n",
      "2552\n",
      "2662\n",
      "2772\n",
      "2882\n",
      "2992\n",
      "3003\n",
      "3113\n",
      "3223\n",
      "3333\n",
      "3443\n",
      "3553\n",
      "3663\n",
      "3773\n",
      "3883\n",
      "3993\n",
      "4004\n",
      "4114\n",
      "4224\n",
      "4334\n",
      "4444\n",
      "4554\n",
      "4664\n",
      "4774\n",
      "4884\n",
      "4994\n",
      "5005\n",
      "5115\n",
      "5225\n",
      "5335\n",
      "5445\n",
      "5555\n",
      "5665\n",
      "5775\n",
      "5885\n",
      "5995\n",
      "6006\n",
      "6116\n",
      "6226\n",
      "6336\n",
      "6446\n",
      "6556\n",
      "6666\n",
      "6776\n",
      "6886\n",
      "6996\n",
      "7007\n",
      "7117\n",
      "7227\n",
      "7337\n",
      "7447\n",
      "7557\n",
      "7667\n",
      "7777\n",
      "7887\n",
      "7997\n",
      "8008\n",
      "8118\n",
      "8228\n",
      "8338\n",
      "8448\n",
      "8558\n",
      "8668\n",
      "8778\n",
      "8888\n",
      "8998\n",
      "9009\n",
      "9119\n",
      "9229\n",
      "9339\n",
      "9449\n",
      "9559\n",
      "9669\n",
      "9779\n",
      "9889\n",
      "9999\n"
     ]
    }
   ],
   "source": [
    "for i in range(1,10):\n",
    "    for j in range(0,10):\n",
    "        print(i*1001+j*110)"
   ]
  },
  {
   "cell_type": "markdown",
   "id": "headed-sheet",
   "metadata": {},
   "source": [
    "### BASIC-9\t特殊回文数\t回文数 循环 条件语句\n",
    "问题描述\n",
    "\n",
    "123321是一个非常特殊的数，它从左边读和从右边读是一样的。\n",
    "输入一个正整数n， 编程求所有这样的五位和六位十进制数，满足各位数字之和等于n。\n",
    "\n",
    "输入格式\n",
    "输入一行，包含一个正整数n。\n",
    "\n",
    "输出格式\n",
    "按从小到大的顺序输出满足条件的整数，每个整数占一行。\n",
    "\n",
    "样例输入\n",
    "52\n",
    "\n",
    "样例输出\n",
    "899998\n",
    "989989\n",
    "998899"
   ]
  },
  {
   "cell_type": "code",
   "execution_count": 56,
   "id": "massive-quarterly",
   "metadata": {},
   "outputs": [
    {
     "name": "stdout",
     "output_type": "stream",
     "text": [
      "52\n",
      "899998\n",
      "989989\n",
      "998899\n"
     ]
    }
   ],
   "source": [
    "n=int(input())\n",
    "for i in range(1,10):\n",
    "    for j in range(0,10):\n",
    "        for k in range(0,10):\n",
    "            if ((i+j)*2+k) == n:\n",
    "                print(i*10001+j*1010+k*100)\n",
    "for i in range(1,10):\n",
    "    for j in range(0,10):\n",
    "        for k in range(0,10):\n",
    "            if (i+j+k)*2 == n:\n",
    "                print(i*100001+j*10010+k*1100)"
   ]
  },
  {
   "cell_type": "code",
   "execution_count": 53,
   "id": "spoken-bhutan",
   "metadata": {},
   "outputs": [
    {
     "name": "stdout",
     "output_type": "stream",
     "text": [
      "52\n",
      "899998\n",
      "989989\n",
      "998899\n"
     ]
    }
   ],
   "source": [
    "n=int(input())\t\n",
    "for i in range(10000,1000000):\n",
    "\ta=str(i)\n",
    "\tif a[0]==a[-1] and a[1]==a[-2] and a[2] ==a[-3] and eval('+'.join(a))==n:\n",
    "\t\tprint(i)"
   ]
  },
  {
   "cell_type": "markdown",
   "id": "diverse-duncan",
   "metadata": {},
   "source": [
    "### BASIC-10\t十进制转十六进制\t循环 整除 求余 判断\n",
    "问题描述\n",
    "\n",
    "　　十六进制数是在程序设计时经常要使用到的一种整数的表示方式。它有0,1,2,3,4,5,6,7,8,9,A,B,C,D,E,F共16个符号，分别表示十进制数的0至15。十六进制的计数方法是满16进1，所以十进制数16在十六进制中是10，而十进制的17在十六进制中是11，以此类推，十进制的30在十六进制中是1E。\n",
    "　　给出一个非负整数，将它表示成十六进制的形式。\n",
    "\n",
    "输入格式\n",
    "　　输入包含一个非负整数a，表示要转换的数。0<=a<=2147483647\n",
    "    \n",
    "输出格式\n",
    "　　输出这个整数的16进制表示\n",
    "    \n",
    "样例输入\n",
    "30\n",
    "\n",
    "样例输出\n",
    "1E"
   ]
  },
  {
   "cell_type": "code",
   "execution_count": 58,
   "id": "dried-planning",
   "metadata": {},
   "outputs": [
    {
     "name": "stdout",
     "output_type": "stream",
     "text": [
      "30\n",
      "1E\n"
     ]
    }
   ],
   "source": [
    "a=int(input())\n",
    "# print(hex(a)) # 0x1e\n",
    "print(format(a, 'X')) # x 输出字母为小写 X 输出字母为大写"
   ]
  },
  {
   "cell_type": "markdown",
   "id": "experimental-mixer",
   "metadata": {},
   "source": [
    "# BASIC-11\t十六进制转十进制\t进制转换 字符处理 判断\n",
    "\n",
    "问题描述\n",
    "\n",
    "　　从键盘输入一个不超过8位的正的十六进制数字符串，将它转换为正的十进制数后输出。\n",
    "  \n",
    "　　注：十六进制数中的10~15分别用大写的英文字母A、B、C、D、E、F表示。\n",
    "\n",
    "样例输入\n",
    "FFFF\n",
    "\n",
    "样例输出\n",
    "65535"
   ]
  },
  {
   "cell_type": "code",
   "execution_count": 63,
   "id": "patient-obligation",
   "metadata": {},
   "outputs": [
    {
     "name": "stdout",
     "output_type": "stream",
     "text": [
      "FFFF\n",
      "65535\n"
     ]
    }
   ],
   "source": [
    "a=input()\n",
    "print(int(a,16))"
   ]
  },
  {
   "cell_type": "markdown",
   "id": "practical-honey",
   "metadata": {},
   "source": [
    "### BASIC-12\t十六进制转八进制\t进制转换 字符 循环\n",
    "问题描述\n",
    "　　给定n个十六进制正整数，输出它们对应的八进制数。\n",
    "\n",
    "输入格式\n",
    "　　输入的第一行为一个正整数n （1<=n<=10）。\n",
    "    \n",
    "　　接下来n行，每行一个由0 ~ 9、大写字母A ~ F组成的字符串，表示要转换的十六进制正整数，每个十六进制数长度不超过100000。\n",
    "\n",
    "输出格式\n",
    "\n",
    "　　输出n行，每行为输入对应的八进制正整数。\n",
    "\n",
    "　　【注意】\n",
    "　　输入的十六进制数不会有前导0，比如012A。\n",
    "    \n",
    "　　输出的八进制数也不能有前导0。\n",
    "\n",
    "样例输入\n",
    "　　2\n",
    "　　39\n",
    "　　123ABC\n",
    "\n",
    "样例输出\n",
    "　　71\n",
    "　　4435274\n"
   ]
  },
  {
   "cell_type": "markdown",
   "id": "amazing-moore",
   "metadata": {},
   "source": [
    "n = int(input())\n",
    "for i in range(n):\n",
    "    a = input()\n",
    "    ans = format(int(a,16),'o') #必须为小写o\n",
    "    print(ans)"
   ]
  },
  {
   "cell_type": "markdown",
   "id": "attractive-prototype",
   "metadata": {},
   "source": [
    "### BASIC-13\t数列排序\n",
    "\n",
    "给定一个长度为n的数列，将这个数列按从小到大的顺序排列。1<=n<=200\n",
    "\n",
    "输入格式\n",
    "　　第一行为一个整数n。\n",
    "　　第二行包含n个整数，为待排序的数，每个整数的绝对值小于10000。\n",
    "\n",
    "输出格式\n",
    "　　输出一行，按从小到大的顺序输出排序后的数列。"
   ]
  },
  {
   "cell_type": "code",
   "execution_count": null,
   "id": "purple-squad",
   "metadata": {},
   "outputs": [],
   "source": [
    "n = int(input())\n",
    "arr = list(map(int, input().split()))\n",
    "arr.sort()\n",
    "for i in range(n):\n",
    "    print(arr[i],end=' ') # end=' '输出' '后不换行"
   ]
  },
  {
   "cell_type": "markdown",
   "id": "possible-oliver",
   "metadata": {},
   "source": [
    "蓝桥杯对空格换行要求不高"
   ]
  },
  {
   "cell_type": "markdown",
   "id": "intermediate-johnson",
   "metadata": {},
   "source": [
    "### BASIC-14\tVIP试题 时间转换\t取余 数字字符混合输出\n",
    "问题描述\n",
    "　　给定一个以秒为单位的时间t，要求用“< H > :< M>:< S>”的格式来表示这个时间。<H>表示时间，< M > 表示分钟，而 < S > 表示秒，它们都是整数且没有前导的“0”。例如，若t=0，则应输出是“0:0:0”；若t=3661，则输出“1:1:1”。\n",
    "    \n",
    "输入格式\n",
    "　　输入只有一行，是一个整数t（0<=t<=86399）。\n",
    "    \n",
    "输出格式\n",
    "　　输出只有一行，是以“< H >:< M >:< S >”的格式所表示的时间，不包括引号。\n",
    "    \n",
    "样例输入\n",
    "0\n",
    "    \n",
    "样例输出\n",
    "0:0:0\n",
    "    \n",
    "样例输入\n",
    "5436\n",
    "    \n",
    "样例输出\n",
    "1:30:36"
   ]
  },
  {
   "cell_type": "code",
   "execution_count": 35,
   "id": "convinced-enclosure",
   "metadata": {},
   "outputs": [
    {
     "name": "stdout",
     "output_type": "stream",
     "text": [
      "5436\n",
      "1:30:36\n"
     ]
    }
   ],
   "source": [
    "t=int(input())\n",
    "H=t//3600\n",
    "M=(t-H*3600)//60\n",
    "S=t%60\n",
    "print('%d:%d:%d'% (H, M, S))"
   ]
  },
  {
   "cell_type": "markdown",
   "id": "tired-determination",
   "metadata": {},
   "source": [
    "注意格式化print的写法：print('%d:%d:%d'% (H, M, S))"
   ]
  },
  {
   "cell_type": "markdown",
   "id": "speaking-humidity",
   "metadata": {},
   "source": [
    "### BASIC-15\tVIP试题 字符串对比\t字符串 大小写\n",
    "问题描述\n",
    "给定两个仅由大写字母或小写字母组成的字符串(长度介于1到10之间)，它们之间的关系是以下4中情况之一：\n",
    "\n",
    "1：两个字符串长度不等。比如 Beijing 和 Hebei\n",
    "\n",
    "2：两个字符串不仅长度相等，而且相应位置上的字符完全一致(区分大小写)，比如 Beijing 和 Beijing\n",
    "\n",
    "3：两个字符串长度相等，相应位置上的字符仅在不区分大小写的前提下才能达到完全一致（也就是说，它并不满足情况2）。比如 beijing 和 BEIjing\n",
    "\n",
    "4：两个字符串长度相等，但是即使是不区分大小写也不能使这两个字符串一致。比如 Beijing 和 Nanjing\n",
    "\n",
    "编程判断输入的两个字符串之间的关系属于这四类中的哪一类，给出所属的类的编号。\n",
    "\n",
    "输入格式\n",
    "　　包括两行，每行都是一个字符串\n",
    "\n",
    "输出格式\n",
    "　　仅有一个数字，表明这两个字符串的关系编号\n",
    "\n",
    "样例输入\n",
    "BEIjing\n",
    "beiJing \n",
    "\n",
    "样例输出\n",
    "3"
   ]
  },
  {
   "cell_type": "code",
   "execution_count": 49,
   "id": "sublime-administrator",
   "metadata": {},
   "outputs": [
    {
     "name": "stdout",
     "output_type": "stream",
     "text": [
      "BEIjing\n",
      "beiJing\n",
      "3\n"
     ]
    }
   ],
   "source": [
    "a=str(input())\n",
    "b=str(input())\n",
    "if len(a) != len(b):\n",
    "    print(\"1\")\n",
    "elif a == b:\n",
    "    print(\"2\")\n",
    "elif a.upper() == b.upper():\n",
    "    print(\"3\")\n",
    "else:\n",
    "    print(\"4\")"
   ]
  },
  {
   "cell_type": "code",
   "execution_count": 10,
   "id": "julian-dietary",
   "metadata": {},
   "outputs": [
    {
     "name": "stdout",
     "output_type": "stream",
     "text": [
      "A\n",
      "b\n"
     ]
    }
   ],
   "source": [
    "a='a'\n",
    "a1=a.upper()\n",
    "print(a1)\n",
    "b='B'\n",
    "b1=b.lower()\n",
    "print(b1)"
   ]
  },
  {
   "cell_type": "markdown",
   "id": "sapphire-cross",
   "metadata": {},
   "source": [
    "### BASIC-16\tVIP试题 分解质因数\t质数分解 循环\n",
    "问题描述\n",
    "　　求出区间[a,b]中所有整数的质因数分解。\n",
    "    \n",
    "输入格式\n",
    "　　输入两个整数a，b。\n",
    "    \n",
    "输出格式\n",
    "　　每行输出一个数的分解，形如k=a1 * a2 * a3...(a1<=a2<=a3...，k也是从小到大的)(具体可看样例)\n",
    "\n",
    "样例输入\n",
    "3 10\n",
    "\n",
    "样例输出\n",
    "3=3\n",
    "4=2*2\n",
    "5=5\n",
    "6=2*3\n",
    "7=7\n",
    "8=2*2*2\n",
    "9=3*3\n",
    "10=2*5"
   ]
  },
  {
   "cell_type": "code",
   "execution_count": 5,
   "id": "dress-distance",
   "metadata": {},
   "outputs": [
    {
     "name": "stdout",
     "output_type": "stream",
     "text": [
      "3 10\n",
      "3=3\n",
      "4=2*2\n",
      "5=5\n",
      "6=2*3\n",
      "7=7\n",
      "8=2*2*2\n",
      "9=3*3\n",
      "10=2*5\n"
     ]
    }
   ],
   "source": [
    "#import time\n",
    "\n",
    "def is_prime(n):\n",
    "    for i in range(2, n):\n",
    "        if n % i == 0:\n",
    "            return False\n",
    "    return True\n",
    "\n",
    "a, b = map(int, input().split())\n",
    "#start = time.time()\n",
    " \n",
    "for i in range(a,b+1):\n",
    "    if is_prime(i):  # 如果是素数，则等于它本身\n",
    "        print(i, '=', i, sep='') # sep -- 用来间隔多个对象，默认值是一个空格。\n",
    "# end -- 用来设定以什么结尾。默认值是换行符\\n，我们可以换成其他字符串。\n",
    "    else:\n",
    "        print(i, '=', sep='', end='')\n",
    "        temp = i\n",
    "        j = 2\n",
    "        while j < i:\n",
    "            if temp % j == 0: # 分解质因数，从j=2开始除,直到对i取余不为0时，才j += 1，保证每个j出现最多\n",
    "                print(j,end='')\n",
    "                temp=int(temp/j)\n",
    "                if temp !=1:\n",
    "                    print('*',end='')\n",
    "            else:\n",
    "                j=j+1\n",
    "        print()\n",
    "        \n",
    "#print(time.time()-start)"
   ]
  },
  {
   "cell_type": "markdown",
   "id": "collaborative-model",
   "metadata": {},
   "source": [
    "temp=int(temp/j)比temp=temp/j所用时间更短，因为前者是整数运算，后者是浮点数运算。"
   ]
  },
  {
   "cell_type": "markdown",
   "id": "documented-america",
   "metadata": {},
   "source": [
    "### BASIC-17\tVIP试题 矩阵乘法\t二维数组 循环 矩阵\n",
    "问题描述\n",
    "给定一个N阶矩阵A，输出A的M次幂（M是非负整数）\n",
    "    \n",
    "输入格式\n",
    "    第一行是一个正整数N、M（1<=N<=30, 0<=M<=5），表示矩阵A的阶数和要求的幂数\n",
    "    接下来N行，每行N个绝对值不超过10的非负整数，描述矩阵A的值\n",
    "\n",
    "输出格式\n",
    "　　输出共N行，每行N个整数，表示A的M次幂所对应的矩阵。相邻的数之间用一个空格隔开\n",
    "    \n",
    "样例输入（N阶矩阵A）\n",
    "\n",
    "2 2\n",
    "\n",
    "1 2\n",
    "\n",
    "3 4\n",
    "\n",
    "样例输出（A的2次幂）\n",
    "\n",
    "7 10\n",
    "\n",
    "15 22"
   ]
  },
  {
   "cell_type": "code",
   "execution_count": 19,
   "id": "fatty-going",
   "metadata": {},
   "outputs": [
    {
     "name": "stdout",
     "output_type": "stream",
     "text": [
      "2 2\n",
      "1 2 \n",
      "3 4\n",
      "7 10 \n",
      "15 22 \n"
     ]
    }
   ],
   "source": [
    "def multi(r_1,s_1,r_2,s_2): # 矩阵乘法函数\n",
    "    if s_1[1] != s_2[0] : # 前提\n",
    "        return\n",
    "    else:\n",
    "        r=[[0 for _ in range(s_1[0])] for _ in range(s_2[1])] # 初始化\n",
    "        s=(s_1[0],s_2[1])\n",
    "        for i in range(s_1[0]):\n",
    "            for k in range(s_2[1]):\n",
    "                for j in range(s_1[1]):\n",
    "                    r[i][k] += r_1[i][j] * r_2[j][k]\n",
    "        return r,s\n",
    "\n",
    "# 读入数据，初始化\n",
    "N,M = map(int,input().split())\n",
    "r = [[] for _ in range(N) ]\n",
    "# print(r) [[], []]\n",
    "for i in range(N):\n",
    "    arr = input().split()\n",
    "    for j in range(N):\n",
    "        r[i].append(int(arr[j]))\n",
    "s=(N,N)\n",
    "result,shape = r,s\n",
    "\n",
    "# 计算矩阵\n",
    "if M == 0 : # 单位矩阵,斜着的是1\n",
    "    result = [[0 for _ in range(N)] for _ in range(N)]\n",
    "    for i in range(N):\n",
    "        result[i][i] = 1\n",
    "else:\n",
    "    for i in range(M-1):\n",
    "        result,shape=multi(r,s,result,shape)\n",
    "\n",
    "# 输出矩阵\n",
    "for i in range(shape[0]):\n",
    "    for j in range(shape[1]):\n",
    "        print(result[i][j],end=' ')\n",
    "    print()"
   ]
  },
  {
   "cell_type": "code",
   "execution_count": 11,
   "id": "arranged-terminology",
   "metadata": {},
   "outputs": [
    {
     "name": "stdout",
     "output_type": "stream",
     "text": [
      "[[0], [0]]\n"
     ]
    }
   ],
   "source": [
    "rect_ = [[0 for _ in range(1)] for _ in range(2)] #【【第一层循环】第二层循环】\n",
    "print(rect_)"
   ]
  },
  {
   "cell_type": "markdown",
   "id": "complex-waste",
   "metadata": {},
   "source": [
    "幂==》递归算法   result,shape=multi(r,s,result,shape)\n",
    "\n",
    "读入数据：先初始化一行，然后通过append函数添加这一行的数据\n",
    "\n",
    "矩阵乘法：r[i][k] += r_1[i][j] * r_2[j][k]"
   ]
  },
  {
   "cell_type": "markdown",
   "id": "tribal-delaware",
   "metadata": {},
   "source": [
    "### BASIC-18\tVIP试题 矩形面积交\t判断 线段交\n",
    "问题描述\n",
    "　　平面上有两个矩形，它们的边平行于直角坐标系的X轴或Y轴。对于每个矩形，我们给出它的一对相对顶点的坐标，请你编程算出两个矩形的交的面积。\n",
    "\n",
    "输入格式\n",
    "　　输入仅包含两行，每行描述一个矩形。\n",
    "　　在每行中，给出矩形的一对相对顶点的坐标，每个点的坐标都用两个绝对值不超过10^7的实数表示。\n",
    "\n",
    "输出格式\n",
    "　　输出仅包含一个实数，为交的面积，保留到小数后两位。\n",
    "\n",
    "样例输入\n",
    "\n",
    "1 1 3 3\n",
    "\n",
    "2 2 4 4\n",
    "\n",
    "样例输出\n",
    "\n",
    "1.00"
   ]
  },
  {
   "cell_type": "code",
   "execution_count": 20,
   "id": "fitting-machinery",
   "metadata": {},
   "outputs": [
    {
     "name": "stdout",
     "output_type": "stream",
     "text": [
      "1 1 3 3\n",
      "2 2 4 4 \n",
      "1.00\n"
     ]
    }
   ],
   "source": [
    "rect_1 = list(map(float, input().split()))\n",
    "rect_2 = list(map(float, input().split()))\n",
    "\n",
    "area = 0\n",
    "\n",
    "x1 = max(min(rect_1[0], rect_1[2]), min(rect_2[0], rect_2[2]))\n",
    "y1 = max(min(rect_1[1], rect_1[3]), min(rect_2[1], rect_2[3]))\n",
    "x2 = min(max(rect_1[0], rect_1[2]), max(rect_2[0], rect_2[2]))\n",
    "y2 = min(max(rect_1[1], rect_1[3]), max(rect_2[1], rect_2[3]))\n",
    "\n",
    "if x1 < x2 and y1 < y2:\n",
    "    area = (x2 - x1) * (y2 - y1)\n",
    "    print('%.2f' % area)\n",
    "else:\n",
    "    print('%.2f' % area)"
   ]
  },
  {
   "cell_type": "markdown",
   "id": "agreed-belize",
   "metadata": {},
   "source": [
    "矩阵交集条件：\n",
    "\n",
    "max(矩阵A、B的最小横坐标) = x1 > min(最大横坐标) = x2\n",
    "\n",
    "纵坐标同理\n",
    "\n",
    "矩阵面积交：area=(x2 - x1) * (y2 - y1)"
   ]
  },
  {
   "cell_type": "markdown",
   "id": "hindu-tyler",
   "metadata": {},
   "source": [
    "### BASIC-19\tVIP试题 完美的代价\t贪心算法\n",
    "问题描述\n",
    "\n",
    "　　回文串，是一种特殊的字符串，它从左往右读和从右往左读是一样的。小龙龙认为回文串才是完美的。现在给你一个串，它不一定是回文的，请你计算最少的交换次数使得该串变成一个完美的回文串。\n",
    "　　\n",
    "   交换的定义是：交换两个相邻的字符\n",
    "　　\n",
    "   例如mamad\n",
    "　　第一次交换 ad : mamda\n",
    "　　第二次交换 md : madma\n",
    "　　第三次交换 ma : madam (回文！完美！)\n",
    "    \n",
    "输入格式\n",
    "\n",
    "　　第一行是一个整数N，表示接下来的字符串的长度(N <= 8000)\n",
    "  \n",
    "　　第二行是一个字符串，长度为N.只包含小写字母\n",
    "\n",
    "输出格式\n",
    "\n",
    "　　如果可能，输出最少的交换次数。\n",
    "  \n",
    "　　否则输出Impossible\n",
    "\n",
    "样例输入\n",
    "\n",
    "5\n",
    "\n",
    "mamad\n",
    "\n",
    "样例输出\n",
    "\n",
    "3"
   ]
  },
  {
   "cell_type": "code",
   "execution_count": null,
   "id": "8a3346a9",
   "metadata": {},
   "outputs": [],
   "source": [
    "n = int(input())\n",
    "pal = list(input())\n",
    "\n",
    "count = flag = 0  # count统计交换的次数，flag判断是否已经有一个单独的奇个数的字符了\n",
    "m = n - 1 # 倒数第二个字符\n",
    "\n",
    "for i in range(m):  # 从头遍历到倒数第二个字符\n",
    "    for k in range(m, i - 1, -1):  # 从后面往前一直到i寻找和pal[i]相同的pal[k]\n",
    "        if k == i:  # 如果找不到相同的\n",
    "            if n % 2 == 0 or flag == 1:  # impossible的两种情况:\n",
    "                # n为偶数，有一个字符出现次数为奇数；\n",
    "                # n为奇数，if已存在字符是奇数，又有一个字符是奇数\n",
    "                print('Impossible')\n",
    "                exit()\n",
    "            flag = 1\n",
    "            count += int(n / 2) - i\n",
    "        elif pal[k] == pal[i]:\n",
    "            for j in range(k, m):  # 找到相同的，进行交换\n",
    "                pal[j], pal[j + 1] = pal[j + 1], pal[j]\n",
    "                count += 1  # 计数器加1\n",
    "            m -= 1  # 最后排好序的不在进行比较\n",
    "            break\n",
    "\n",
    "print(count)"
   ]
  },
  {
   "cell_type": "code",
   "execution_count": null,
   "id": "c08276b4",
   "metadata": {},
   "outputs": [],
   "source": [
    "n = int(input())\n",
    "pal = list(input())\n",
    "\n",
    "count=0 #交换次数\n",
    "flag =0 #存在单独奇数字符\n",
    "m=n-1\n",
    "\n",
    "for i in range(m):#从头到尾遍历\n",
    "    for k in range(m,i-1,-1): #从尾到头遍历\n",
    "        if k == i: #全部遍历了，但没找到相同的\n",
    "            if n%2==0 or flag ==1:\n",
    "                print(\"Impossible\")\n",
    "        "
   ]
  },
  {
   "cell_type": "code",
   "execution_count": null,
   "id": "professional-unknown",
   "metadata": {},
   "outputs": [],
   "source": [
    "# BASIC-20\tVIP试题 数的读法\t判断 函数\n"
   ]
  }
 ],
 "metadata": {
  "kernelspec": {
   "display_name": "Python 3 (ipykernel)",
   "language": "python",
   "name": "python3"
  },
  "language_info": {
   "codemirror_mode": {
    "name": "ipython",
    "version": 3
   },
   "file_extension": ".py",
   "mimetype": "text/x-python",
   "name": "python",
   "nbconvert_exporter": "python",
   "pygments_lexer": "ipython3",
   "version": "3.9.7"
  }
 },
 "nbformat": 4,
 "nbformat_minor": 5
}
