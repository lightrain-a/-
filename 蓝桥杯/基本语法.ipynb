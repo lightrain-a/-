{
 "cells": [
  {
   "cell_type": "code",
   "execution_count": 1,
   "id": "fd4bfdbd",
   "metadata": {},
   "outputs": [
    {
     "name": "stdout",
     "output_type": "stream",
     "text": [
      "你好，世界\n"
     ]
    }
   ],
   "source": [
    "print (\"你好，世界\")"
   ]
  },
  {
   "cell_type": "markdown",
   "id": "c6be555a",
   "metadata": {},
   "source": [
    "# Python 变量类型\n",
    "变量存储在内存中的值，这就意味着在创建变量时会在内存中开辟一个空间。\n",
    "\n",
    "基于变量的数据类型，解释器会分配指定内存，并决定什么数据可以被存储在内存中。\n",
    "\n",
    "因此，变量可以指定不同的数据类型，这些变量可以存储整数，小数或字符。"
   ]
  },
  {
   "cell_type": "markdown",
   "id": "cda00a92",
   "metadata": {},
   "source": [
    "## 变量赋值\n",
    "Python 中的变量赋值不需要类型声明。\n",
    "\n",
    "每个变量在内存中创建，都包括变量的标识，名称和数据这些信息。\n",
    "\n",
    "每个变量在使用前都必须赋值，变量赋值以后该变量才会被创建。"
   ]
  },
  {
   "cell_type": "code",
   "execution_count": 2,
   "id": "af2125dc",
   "metadata": {},
   "outputs": [
    {
     "name": "stdout",
     "output_type": "stream",
     "text": [
      "100 1000.0 John\n"
     ]
    }
   ],
   "source": [
    "counter = 100 # 赋值整型变量\n",
    "miles = 1000.0 # 浮点型\n",
    "name = \"John\" # 字符串\n",
    "\n",
    "print(counter,miles,name)"
   ]
  },
  {
   "cell_type": "markdown",
   "id": "b5665ce6",
   "metadata": {},
   "source": [
    "## 多变量赋值"
   ]
  },
  {
   "cell_type": "code",
   "execution_count": 3,
   "id": "94b27e5c",
   "metadata": {},
   "outputs": [
    {
     "name": "stdout",
     "output_type": "stream",
     "text": [
      "1 2 john\n"
     ]
    }
   ],
   "source": [
    "a, b, c = 1, 2, \"john\"\n",
    "print(a,b,c)"
   ]
  },
  {
   "cell_type": "markdown",
   "id": "1dc67eb4",
   "metadata": {},
   "source": [
    "## 标准数据类型\n",
    "在内存中存储的数据可以有多种类型。\n",
    "\n",
    "例如，一个人的年龄可以用数字来存储，他的名字可以用字符来存储。\n",
    "\n",
    "Python 定义了一些标准类型，用于存储各种类型的数据。\n",
    "\n",
    "Python有五个标准的数据类型：\n",
    "\n",
    "不可变：Numbers（数字）\n",
    "String（字符串）\n",
    "List（列表）\n",
    "Tuple（元组）\n",
    "Dictionary（字典）"
   ]
  },
  {
   "cell_type": "markdown",
   "id": "167ae13c",
   "metadata": {},
   "source": [
    "## 数字\n",
    "数字数据类型用于存储数值。\n",
    "\n",
    "他们是不可改变的数据类型，这意味着改变数字数据类型会分配一个新的对象。\n",
    "\n",
    "当你指定一个值时，Number 对象就会被创建："
   ]
  },
  {
   "cell_type": "code",
   "execution_count": 6,
   "id": "ec572600",
   "metadata": {},
   "outputs": [],
   "source": [
    "var1 = 1\n",
    "var2 = 10"
   ]
  },
  {
   "cell_type": "code",
   "execution_count": 7,
   "id": "07488b9e",
   "metadata": {},
   "outputs": [],
   "source": [
    "del var1 # 删除单个或多个对象的引用"
   ]
  },
  {
   "cell_type": "code",
   "execution_count": 8,
   "id": "2f787b50",
   "metadata": {},
   "outputs": [
    {
     "ename": "NameError",
     "evalue": "name 'var1' is not defined",
     "output_type": "error",
     "traceback": [
      "\u001b[1;31m---------------------------------------------------------------------------\u001b[0m",
      "\u001b[1;31mNameError\u001b[0m                                 Traceback (most recent call last)",
      "\u001b[1;32m~\\AppData\\Local\\Temp/ipykernel_21312/2376987541.py\u001b[0m in \u001b[0;36m<module>\u001b[1;34m\u001b[0m\n\u001b[1;32m----> 1\u001b[1;33m \u001b[0mvar1\u001b[0m\u001b[1;33m\u001b[0m\u001b[1;33m\u001b[0m\u001b[0m\n\u001b[0m",
      "\u001b[1;31mNameError\u001b[0m: name 'var1' is not defined"
     ]
    }
   ],
   "source": [
    "var1"
   ]
  },
  {
   "cell_type": "markdown",
   "id": "b633aa23",
   "metadata": {},
   "source": [
    "Python支持四种不同的数字类型：\n",
    "\n",
    "int（有符号整型）\n",
    "\n",
    "long（长整型，也可以代表八进制和十六进制）  0122L\n",
    "\n",
    "float（浮点型）\n",
    "\n",
    "complex（复数） 4.53e-7j"
   ]
  },
  {
   "cell_type": "markdown",
   "id": "9fc19b7c",
   "metadata": {},
   "source": [
    "## 字符串\n",
    "[头下标:尾下标] 来截取相应的字符串，从 0 开始。\n",
    "\n",
    "[头下标:尾下标] 获取的子字符串[头，尾)。\n",
    "\n",
    "### 访问字符串的值"
   ]
  },
  {
   "cell_type": "code",
   "execution_count": 9,
   "id": "be202133",
   "metadata": {},
   "outputs": [
    {
     "data": {
      "text/plain": [
       "'bcde'"
      ]
     },
     "execution_count": 9,
     "metadata": {},
     "output_type": "execute_result"
    }
   ],
   "source": [
    "s = 'abcdef'\n",
    "s[1:5]"
   ]
  },
  {
   "cell_type": "markdown",
   "id": "07ddc1b2",
   "metadata": {},
   "source": [
    "### 字符串连接\n",
    "\n",
    "加号（+）是字符串连接运算符，星号（*）是重复操作。"
   ]
  },
  {
   "cell_type": "code",
   "execution_count": 10,
   "id": "8d12cb8a",
   "metadata": {},
   "outputs": [
    {
     "name": "stdout",
     "output_type": "stream",
     "text": [
      "Hello World!\n",
      "H\n",
      "llo\n",
      "llo World!\n",
      "Hello World!Hello World!\n",
      "Hello World!TEST\n"
     ]
    }
   ],
   "source": [
    "str = 'Hello World!'\n",
    " \n",
    "print (str )          # 输出完整字符串\n",
    "print (str[0])        # 输出字符串中的第一个字符\n",
    "print (str[2:5] )     # 输出字符串中第三个至第六个之间的字符串\n",
    "print (str[2:]  )     # 输出从第三个字符开始的字符串\n",
    "print (str * 2 )      # 输出字符串两次\n",
    "print (str + \"TEST\")  # 输出连接的字符串"
   ]
  },
  {
   "cell_type": "markdown",
   "id": "a063621f",
   "metadata": {},
   "source": [
    "列表截取第三个参数:截取的步长"
   ]
  },
  {
   "cell_type": "code",
   "execution_count": 12,
   "id": "64ef5d98",
   "metadata": {},
   "outputs": [
    {
     "data": {
      "text/plain": [
       "'bd'"
      ]
     },
     "execution_count": 12,
     "metadata": {},
     "output_type": "execute_result"
    }
   ],
   "source": [
    "letters='abcdefg'\n",
    "letters[1:4:2]"
   ]
  },
  {
   "cell_type": "markdown",
   "id": "6447dd03",
   "metadata": {},
   "source": [
    "## 列表\n",
    "List（列表）用 [ ] 标识，支持字符，数字，字符串甚至可以包含列表（即嵌套）。"
   ]
  },
  {
   "cell_type": "code",
   "execution_count": 13,
   "id": "3193cf38",
   "metadata": {},
   "outputs": [
    {
     "name": "stdout",
     "output_type": "stream",
     "text": [
      "['runoob', 786, 2.23, 'john', 70.2]\n",
      "runoob\n",
      "[786, 2.23]\n",
      "[2.23, 'john', 70.2]\n",
      "[123, 'john', 123, 'john']\n",
      "['runoob', 786, 2.23, 'john', 70.2, 123, 'john']\n"
     ]
    }
   ],
   "source": [
    "list = [ 'runoob', 786 , 2.23, 'john', 70.2 ]\n",
    "tinylist = [123, 'john']\n",
    " \n",
    "print (list  )             # 输出完整列表\n",
    "print (list[0]  )          # 输出列表的第一个元素\n",
    "print (list[1:3]  )        # 输出第二个至第三个元素 \n",
    "print (list[2:]  )         # 输出从第三个开始至列表末尾的所有元素\n",
    "print (tinylist * 2 )      # 输出列表两次\n",
    "print (list + tinylist)    # 打印组合的列表"
   ]
  },
  {
   "cell_type": "markdown",
   "id": "4cc36f26",
   "metadata": {},
   "source": [
    "## 元组\n",
    "用 () 标识。内部元素用逗号隔开。\n",
    "\n",
    "不能二次赋值，相当于只读列表。"
   ]
  },
  {
   "cell_type": "code",
   "execution_count": 14,
   "id": "e4df45dc",
   "metadata": {},
   "outputs": [
    {
     "name": "stdout",
     "output_type": "stream",
     "text": [
      "('runoob', 786, 2.23, 'john', 70.2)\n",
      "runoob\n",
      "(786, 2.23)\n",
      "(2.23, 'john', 70.2)\n",
      "(123, 'john', 123, 'john')\n",
      "('runoob', 786, 2.23, 'john', 70.2, 123, 'john')\n"
     ]
    }
   ],
   "source": [
    "tuple = ( 'runoob', 786 , 2.23, 'john', 70.2 )\n",
    "tinytuple = (123, 'john')\n",
    " \n",
    "print (tuple   )            # 输出完整元组\n",
    "print (tuple[0]   )         # 输出元组的第一个元素\n",
    "print (tuple[1:3]  )        # 输出第二个至第四个（不包含）的元素 \n",
    "print (tuple[2:]   )        # 输出从第三个开始至列表末尾的所有元素\n",
    "print (tinytuple * 2   )    # 输出元组两次\n",
    "print (tuple + tinytuple)   # 打印组合的元组"
   ]
  },
  {
   "cell_type": "markdown",
   "id": "cc5fcbb2",
   "metadata": {},
   "source": [
    "## 字典\n",
    "字典(dictionary)。列表是有序的对象集合，字典是无序的对象集合。\n",
    "\n",
    "两者之间的区别在于：字典当中的元素是通过键来存取的，而不是通过偏移存取。\n",
    "\n",
    "字典用\"{ }\"标识。字典由索引(key)和它对应的值value组成。"
   ]
  },
  {
   "cell_type": "code",
   "execution_count": 16,
   "id": "3a9b74f5",
   "metadata": {},
   "outputs": [
    {
     "name": "stdout",
     "output_type": "stream",
     "text": [
      "This is one\n",
      "This is two\n",
      "{'name': 'runoob', 'code': 6734, 'dept': 'sales'}\n",
      "dict_keys(['name', 'code', 'dept'])\n",
      "dict_values(['runoob', 6734, 'sales'])\n"
     ]
    }
   ],
   "source": [
    "dict = {}\n",
    "dict['one'] = \"This is one\"\n",
    "dict[2] = \"This is two\"\n",
    " \n",
    "tinydict = {'name': 'runoob','code':6734, 'dept': 'sales'}\n",
    " \n",
    "\n",
    "print (dict['one']  )        # 输出键为'one' 的值\n",
    "print (dict[2])              # 输出键为 2 的值\n",
    "print (tinydict )            # 输出完整的字典\n",
    "print (tinydict.keys())      # 输出所有键\n",
    "print (tinydict.values()   ) # 输出所有值"
   ]
  },
  {
   "cell_type": "markdown",
   "id": "50ad52fb",
   "metadata": {},
   "source": [
    "## 数据类型转换\n",
    "需要对数据内置的类型进行转换,数据类型作为函数名。\n",
    "\n",
    "返回一个新的对象，表示转换的值。"
   ]
  },
  {
   "cell_type": "markdown",
   "id": "2cbbcfa5",
   "metadata": {},
   "source": [
    "函数    描述\n",
    "int(x [,base])     将x转换为一个整数\n",
    "\n",
    "long(x [,base] )   将x转换为一个长整数\n",
    "\n",
    "float(x)           将x转换到一个浮点数\n",
    "\n",
    "complex(real [,imag])   创建一个复数\n",
    "\n",
    "str(x)             将对象 x 转换为字符串\n",
    "\n",
    "repr(x)            将对象 x 转换为表达式字符串\n",
    "\n",
    "eval(str)          用来计算在字符串中的有效Python表达式,并返回一个对象\n",
    "\n",
    "tuple(s)           将序列 s 转换为一个元组\n",
    "\n",
    "list(s)            将序列 s 转换为一个列表\n",
    "\n",
    "set(s)             转换为可变集合\n",
    "\n",
    "dict(d)            创建一个字典。d 必须是一个序列 (key,value)元组。\n",
    "\n",
    "frozenset(s)       转换为不可变集合\n",
    "\n",
    "chr(x)             将一个整数转换为一个字符\n",
    "\n",
    "unichr(x)          将一个整数转换为Unicode字符\n",
    "\n",
    "ord(x)             将一个字符转换为它的整数值\n",
    "\n",
    "hex(x)             将一个整数转换为一个十六进制字符串\n",
    "\n",
    "oct(x)             将一个整数转换为一个八进制字符串"
   ]
  },
  {
   "cell_type": "markdown",
   "id": "587f84bc",
   "metadata": {},
   "source": [
    "# 运算符\n",
    "算术运算符\n",
    "比较（关系）运算符\n",
    "赋值运算符\n",
    "逻辑运算符\n",
    "位运算符\n",
    "成员运算符\n",
    "身份运算符\n",
    "运算符优先级"
   ]
  },
  {
   "cell_type": "raw",
   "id": "3d6d1e5c",
   "metadata": {},
   "source": [
    "+ - * / % ** //\n",
    "除数为浮点数，结果才为浮点数"
   ]
  },
  {
   "cell_type": "code",
   "execution_count": 18,
   "id": "415ebd92",
   "metadata": {},
   "outputs": [
    {
     "name": "stdout",
     "output_type": "stream",
     "text": [
      "1 - c 的值为： 31\n",
      "2 - c 的值为： 11\n",
      "3 - c 的值为： 210\n",
      "4 - c 的值为： 2.1\n",
      "5 - c 的值为： 1\n",
      "6 - c 的值为： 8\n",
      "7 - c 的值为： 2\n"
     ]
    }
   ],
   "source": [
    "a = 21\n",
    "b = 10\n",
    "c = 0\n",
    " \n",
    "c = a + b\n",
    "print (\"1 - c 的值为：\", c)\n",
    " \n",
    "c = a - b\n",
    "print (\"2 - c 的值为：\", c )\n",
    " \n",
    "c = a * b\n",
    "print (\"3 - c 的值为：\", c )\n",
    " \n",
    "c = a / b\n",
    "print (\"4 - c 的值为：\", c )\n",
    " \n",
    "c = a % b\n",
    "print (\"5 - c 的值为：\", c)\n",
    " \n",
    "# 修改变量 a 、b 、c\n",
    "a = 2\n",
    "b = 3\n",
    "c = a**b \n",
    "print (\"6 - c 的值为：\", c)\n",
    " \n",
    "a = 10\n",
    "b = 5\n",
    "c = a//b \n",
    "print (\"7 - c 的值为：\", c)"
   ]
  },
  {
   "cell_type": "markdown",
   "id": "896e6a17",
   "metadata": {},
   "source": [
    "## 位运算\n",
    "按位运算符是把数字看作二进制来进行计算的。"
   ]
  },
  {
   "cell_type": "markdown",
   "id": "9ecf262b",
   "metadata": {},
   "source": [
    "& 与 | 或 ^ 异或 ~ 取反 << 左移（高位丢弃，低位补零） >> 右移"
   ]
  },
  {
   "cell_type": "markdown",
   "id": "33396844",
   "metadata": {},
   "source": [
    "## 逻辑运算\n",
    "and or not 返回布尔值"
   ]
  },
  {
   "cell_type": "markdown",
   "id": "fb643364",
   "metadata": {},
   "source": [
    "## 成员运算符\n",
    "in \n",
    "返回布尔值\n",
    "not in\n",
    "判断：是否同一内存空间"
   ]
  },
  {
   "cell_type": "markdown",
   "id": "0a59eb06",
   "metadata": {},
   "source": [
    "# 条件语句\n",
    "通过一条或多条语句的执行结果（True或者False）来决定执行的代码块。\n",
    "\n",
    "条件之间，and或者or连接\n",
    "\n",
    "if elif else"
   ]
  },
  {
   "cell_type": "markdown",
   "id": "563c8f8f",
   "metadata": {},
   "source": [
    "# 循环语句\n",
    "while for 嵌套\n",
    "\n",
    "while 1： #循环必然成立，靠break跳出循环\n",
    "## 循环控制语句\n",
    "break跳出当个循环 continue跳出当次循环 pass占位语句\n",
    "\n",
    "**continue 语句是一个删除的效果，他的存在是为了删除满足循环条件下的某些不需要的成分**\n",
    "\n",
    "**pass定义空函数**\n",
    "\n",
    "def sample(n_samples):\n",
    "    pass"
   ]
  },
  {
   "cell_type": "markdown",
   "id": "91fbfcb0",
   "metadata": {},
   "source": [
    "## 循环使用else语句\n",
    "while … else 在循环条件为 false 时执行 else 语句块"
   ]
  },
  {
   "cell_type": "code",
   "execution_count": 21,
   "id": "d761a07a",
   "metadata": {},
   "outputs": [
    {
     "name": "stdout",
     "output_type": "stream",
     "text": [
      "0  is  less than 5\n",
      "1  is  less than 5\n",
      "2  is  less than 5\n",
      "3  is  less than 5\n",
      "4  is  less than 5\n",
      "5  is not less than 5\n"
     ]
    }
   ],
   "source": [
    "count = 0\n",
    "while count < 5:\n",
    "    print( count, \" is  less than 5\")\n",
    "    count = count + 1\n",
    "else:\n",
    "    print( count, \" is not less than 5\")"
   ]
  },
  {
   "cell_type": "markdown",
   "id": "7080260b",
   "metadata": {},
   "source": [
    "# Number(数字)\n",
    "不允许改变，改变数值将重新分配内存空间\n",
    "## math 模块、cmath 模块\n",
    "math 模块提供了许多对浮点数的数学运算函数。\n",
    "\n",
    "cmath 模块包含了一些用于复数运算的函数。"
   ]
  },
  {
   "cell_type": "code",
   "execution_count": 22,
   "id": "6679b1a9",
   "metadata": {},
   "outputs": [
    {
     "data": {
      "text/plain": [
       "['__doc__',\n",
       " '__loader__',\n",
       " '__name__',\n",
       " '__package__',\n",
       " '__spec__',\n",
       " 'acos',\n",
       " 'acosh',\n",
       " 'asin',\n",
       " 'asinh',\n",
       " 'atan',\n",
       " 'atan2',\n",
       " 'atanh',\n",
       " 'ceil',\n",
       " 'comb',\n",
       " 'copysign',\n",
       " 'cos',\n",
       " 'cosh',\n",
       " 'degrees',\n",
       " 'dist',\n",
       " 'e',\n",
       " 'erf',\n",
       " 'erfc',\n",
       " 'exp',\n",
       " 'expm1',\n",
       " 'fabs',\n",
       " 'factorial',\n",
       " 'floor',\n",
       " 'fmod',\n",
       " 'frexp',\n",
       " 'fsum',\n",
       " 'gamma',\n",
       " 'gcd',\n",
       " 'hypot',\n",
       " 'inf',\n",
       " 'isclose',\n",
       " 'isfinite',\n",
       " 'isinf',\n",
       " 'isnan',\n",
       " 'isqrt',\n",
       " 'lcm',\n",
       " 'ldexp',\n",
       " 'lgamma',\n",
       " 'log',\n",
       " 'log10',\n",
       " 'log1p',\n",
       " 'log2',\n",
       " 'modf',\n",
       " 'nan',\n",
       " 'nextafter',\n",
       " 'perm',\n",
       " 'pi',\n",
       " 'pow',\n",
       " 'prod',\n",
       " 'radians',\n",
       " 'remainder',\n",
       " 'sin',\n",
       " 'sinh',\n",
       " 'sqrt',\n",
       " 'tan',\n",
       " 'tanh',\n",
       " 'tau',\n",
       " 'trunc',\n",
       " 'ulp']"
      ]
     },
     "execution_count": 22,
     "metadata": {},
     "output_type": "execute_result"
    }
   ],
   "source": [
    "# 查看 math 查看包中的内容:\n",
    "\n",
    "import math\n",
    "dir(math)"
   ]
  },
  {
   "cell_type": "raw",
   "id": "7e52ea83",
   "metadata": {},
   "source": [
    "## 数学函数\n",
    "函数\t  返回值 ( 描述 )\n",
    "abs(x)\t绝对值，如abs(-10) 返回 10\n",
    "cmp(x, y)\t如果 x < y 返回 -1, 如果 x == y 返回 0, 如果 x > y 返回 1\n",
    "exp(x)\te的x次幂(ex),如math.exp(1) 返回2.718281828459045\n",
    "fabs(x)\t浮点数绝对值，如math.fabs(-10) 返回10.0\n",
    "ceil(x)\t 上入整数，如math.ceil(4.1) 返回 5\n",
    "floor(x) 下舍整数，如math.floor(4.9)返回 4\n",
    "log(x)\t 如math.log(math.e)返回1.0,math.log(100,10)返回2.0\n",
    "log10(x) 以10为基数的x的对数，如math.log10(100)返回 2.0\n",
    "max(x1, x2,...)\t最大值，参数可以为序列。\n",
    "min(x1, x2,...)\t最小值，参数可以为序列。\n",
    "modf(x)\t x的整数部分与小数部分，两部分的数值符号与x相同，整数部分以浮点型表示。\n",
    "pow(x, y)\tx ** y 运算后的值\n",
    "round(x [,n])\t浮点数x的四舍五入值，如给出n值，则代表舍入到小数点后的位数。\n",
    "sqrt(x)\t数字x的平方根"
   ]
  },
  {
   "cell_type": "raw",
   "id": "6f2c5358",
   "metadata": {},
   "source": [
    "## 随机函数\n",
    "choice(seq)  从序列元素中随机挑选一个元素，如random.choice(range(10)),从0到9中随机取一个整数\n",
    "randrange([start,] stop [,step])从指定基数递增集合获取一个随机数\n",
    "random() 随机生成一个实数，[0,1)范围内\n",
    "seed([x])改变随机数生成的种子seed\n",
    "shuffle(lst) 将序列的所有元素随机排序\n",
    "uniform(x,y) 随机生成下一个实数，在[x,y]范围内"
   ]
  },
  {
   "cell_type": "markdown",
   "id": "f8ed9173",
   "metadata": {},
   "source": [
    "## 三角函数\n",
    "asin(x) 反余弦弧度值"
   ]
  },
  {
   "cell_type": "markdown",
   "id": "4bddc2fc",
   "metadata": {},
   "source": [
    "## 数学常量\n",
    "pi \n",
    "e"
   ]
  },
  {
   "cell_type": "markdown",
   "id": "8ac910d3",
   "metadata": {},
   "source": [
    "# 字符串\n",
    "var[2:5] [2,5)\n",
    "\n",
    "var1[:6] + 'Runoob!"
   ]
  },
  {
   "cell_type": "markdown",
   "id": "bb3e584b",
   "metadata": {},
   "source": [
    "## 转义字符\n",
    "\\'\n",
    "\n",
    "\\b 退格\n",
    "\n",
    "\\000 空\n",
    "\n",
    "\\v 纵向制表符\n",
    "\n",
    "\\t 横向制表符\n",
    "\n",
    "\\r 回车\n"
   ]
  },
  {
   "cell_type": "code",
   "execution_count": 4,
   "id": "e0151bf0",
   "metadata": {},
   "outputs": [
    {
     "name": "stdout",
     "output_type": "stream",
     "text": [
      "\u00001\n",
      "1\n"
     ]
    }
   ],
   "source": [
    "print('\\000'+'1')\n",
    "print('1')"
   ]
  },
  {
   "cell_type": "raw",
   "id": "0b357d5b",
   "metadata": {},
   "source": [
    "+ 连接 * 重复输出 in 包含返回True r 原始字符串"
   ]
  },
  {
   "cell_type": "code",
   "execution_count": 5,
   "id": "d2afbe54",
   "metadata": {},
   "outputs": [
    {
     "name": "stdout",
     "output_type": "stream",
     "text": [
      "\\n\n"
     ]
    }
   ],
   "source": [
    "print(r'\\n')"
   ]
  },
  {
   "cell_type": "markdown",
   "id": "361f6be2",
   "metadata": {},
   "source": [
    "## 格式化输出"
   ]
  },
  {
   "cell_type": "code",
   "execution_count": 6,
   "id": "e15de681",
   "metadata": {},
   "outputs": [
    {
     "name": "stdout",
     "output_type": "stream",
     "text": [
      "My name is Zara and weight is 21 kg!\n"
     ]
    }
   ],
   "source": [
    "print(\"My name is %s and weight is %d kg!\" % ('Zara',21))"
   ]
  },
  {
   "cell_type": "markdown",
   "id": "f1738df4",
   "metadata": {},
   "source": [
    "### 格式化符号\n",
    "%c ASCII码\n",
    "\n",
    "%s 字符串\n",
    "\n",
    "%d 整数\n",
    "\n",
    "%u 无符号整数\n",
    "\n",
    "%o 八进制 %x 十六进制 %X 大写十六进制\n",
    "\n",
    "%f 浮点数字，可指定精度\n",
    "\n",
    "%e 科学计数法表示浮点数\n",
    "\n",
    "% 十六进制输出变量地址"
   ]
  },
  {
   "cell_type": "raw",
   "id": "9e782289",
   "metadata": {},
   "source": [
    "### 格式化操作符辅助指令\n",
    "* 宽度获小数点精度\n",
    "- 左对齐\n",
    "+ 正数前面显示+\n",
    "<sp> 正数前面显示空格\n",
    "# 八进制数前面显示('0')\n",
    "0 显示数字前面填充'0'而不是默认空格\n",
    "%% 输出%\n",
    "(var) 映射变量\n",
    "m.n. m显示最小总宽度,n是小数点位数\n",
    "str.format 格式化函数"
   ]
  },
  {
   "cell_type": "raw",
   "id": "6fbee873",
   "metadata": {},
   "source": [
    "string.capitalize() 字符串第一个字符大写\n",
    "string.count() 返回出现次数\n",
    "string.find() 检测是否包含\n",
    "string.replace(str1,str2)\n",
    "string.rfind() 返回最后一次出现的次数\n",
    "string.upper() 转换为大写\n",
    "string.lower() 转化为小写"
   ]
  },
  {
   "cell_type": "code",
   "execution_count": null,
   "id": "393d1789",
   "metadata": {},
   "outputs": [],
   "source": [
    "if tmp_fun()==fun_tmp().decode(\"gbk\"):\n",
    "    print(\"eq\")\n",
    "'''\n",
    "  decode(\"gbk\")作用为将gbk编码转为unicode编码\n",
    "'''"
   ]
  },
  {
   "cell_type": "markdown",
   "id": "9dab9dcb",
   "metadata": {},
   "source": [
    "# 列表"
   ]
  },
  {
   "cell_type": "code",
   "execution_count": 11,
   "id": "d5af5746",
   "metadata": {},
   "outputs": [
    {
     "name": "stdout",
     "output_type": "stream",
     "text": [
      "list1[1:5]:  ['chemistry', 1997, 2000]\n",
      "['physics', 'chemistry', 1997, 2000, 'Runoob']\n",
      "['physics', 'chemistry', 2000, 'Runoob']\n"
     ]
    }
   ],
   "source": [
    "list1 = ['physics', 'chemistry', 1997, 2000]\n",
    "print(\"list1[1:5]: \", list1[1:5])\n",
    "\n",
    "list1.append('Runoob') # 增加\n",
    "print(list1)\n",
    "\n",
    "del list1[2] # 删除\n",
    "print(list1)"
   ]
  },
  {
   "cell_type": "code",
   "execution_count": 14,
   "id": "45d44ed5",
   "metadata": {},
   "outputs": [
    {
     "name": "stdout",
     "output_type": "stream",
     "text": [
      "['chemistry', 2000, 'Runoob']\n",
      "Runoob\n",
      "2000\n"
     ]
    }
   ],
   "source": [
    "print(list1[1:])\n",
    "print(list1[-1])\n",
    "print(list1[2])"
   ]
  },
  {
   "cell_type": "markdown",
   "id": "9b48314a",
   "metadata": {},
   "source": [
    "## 列表函数\n",
    "cmp(list1, list2) 比较两个列表的元素\n",
    "\n",
    "len(list) 列表元素个数\n",
    "\n",
    "max(list) 返回列表元素最大值\n",
    "\n",
    "min(list) 返回列表元素最小值\n",
    "\n",
    "list(seq) 将元组转换为列表"
   ]
  },
  {
   "cell_type": "markdown",
   "id": "af39e2e4",
   "metadata": {},
   "source": [
    "## 列表方法\n",
    "list.append() 添加对象\n",
    "\n",
    "list.count() 统计出现次数\n",
    "\n",
    "list.extend() 新列表扩充原列表\n",
    "\n",
    "list.index() 列表找出某个值第一个匹配项的索引位置\n",
    "\n",
    "list.insert() 将对象插入列表\n",
    "\n",
    "list.pop([index=-1]) 移除列表中的一个元素（默认最后一个元素），返回该元素的值\n",
    "\n",
    "list.remove() 移除列表中某一个值的第一个匹配项\n",
    "\n",
    "list.reverse() 反向列表元素\n",
    "\n",
    "list.sort(reverse=False) 对原列表进行排序"
   ]
  },
  {
   "cell_type": "markdown",
   "id": "202f71fb",
   "metadata": {},
   "source": [
    "# 元组\n",
    "元组元素不能修改 （），隔开"
   ]
  },
  {
   "cell_type": "code",
   "execution_count": 16,
   "id": "9fa21d66",
   "metadata": {},
   "outputs": [
    {
     "name": "stdout",
     "output_type": "stream",
     "text": [
      "tup1[0]:  physics\n"
     ]
    }
   ],
   "source": [
    "tup1 = ('physics', 'chemistry', 1997, 2000)\n",
    "#元组中只包含一个元素时，需要在元素后面添加逗号\n",
    "tup2 = (50,)\n",
    "print(\"tup1[0]: \", tup1[0])"
   ]
  },
  {
   "cell_type": "markdown",
   "id": "5f2ce05c",
   "metadata": {},
   "source": [
    "## 修改元组：可以连接组合"
   ]
  },
  {
   "cell_type": "code",
   "execution_count": 17,
   "id": "efe49a68",
   "metadata": {},
   "outputs": [
    {
     "name": "stdout",
     "output_type": "stream",
     "text": [
      "(12, 34.56, 'abc', 'xyz')\n"
     ]
    }
   ],
   "source": [
    "tup1 = (12, 34.56)\n",
    "tup2 = ('abc', 'xyz')\n",
    " \n",
    "# 以下修改元组元素操作是非法的。\n",
    "# tup1[0] = 100\n",
    " \n",
    "# 创建一个新的元组\n",
    "tup3 = tup1 + tup2\n",
    "print (tup3)"
   ]
  },
  {
   "cell_type": "markdown",
   "id": "8d76b13b",
   "metadata": {},
   "source": [
    "## 删除元组:使用del语句来删除整个元组\n",
    "## 无关闭分隔符\n",
    "任意无符号的对象，以逗号隔开，默认为元组\n",
    "## 内置函数\n",
    "tuple(seq)  将列表转换为元组"
   ]
  },
  {
   "cell_type": "markdown",
   "id": "0503320f",
   "metadata": {},
   "source": [
    "# 字典\n",
    "可变容器，可存储任意类型对象\n",
    "\n",
    "字典的每个键值 key=>value 对用冒号 : 分割，每个键值对之间用逗号 , 分割，整个字典包括在花括号 {} 中 ,格式如下所示：\n",
    "\n",
    "d = {key1 : value1, key2 : value2 }"
   ]
  },
  {
   "cell_type": "code",
   "execution_count": null,
   "id": "0d678995",
   "metadata": {},
   "outputs": [],
   "source": []
  }
 ],
 "metadata": {
  "kernelspec": {
   "display_name": "Python 3 (ipykernel)",
   "language": "python",
   "name": "python3"
  },
  "language_info": {
   "codemirror_mode": {
    "name": "ipython",
    "version": 3
   },
   "file_extension": ".py",
   "mimetype": "text/x-python",
   "name": "python",
   "nbconvert_exporter": "python",
   "pygments_lexer": "ipython3",
   "version": "3.9.7"
  }
 },
 "nbformat": 4,
 "nbformat_minor": 5
}
