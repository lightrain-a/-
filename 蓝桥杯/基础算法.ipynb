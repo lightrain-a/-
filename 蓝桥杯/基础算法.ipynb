{
 "cells": [
  {
   "cell_type": "markdown",
   "id": "bdd939ab",
   "metadata": {},
   "source": [
    "## prim算法：最小生成树\n",
    "https://www.bilibili.com/video/BV1Eb41177d1?spm_id_from=333.337.search-card.all.click\n",
    "\n",
    "强推，一下看懂了"
   ]
  },
  {
   "cell_type": "code",
   "execution_count": 6,
   "id": "50fa11d8",
   "metadata": {},
   "outputs": [
    {
     "name": "stdout",
     "output_type": "stream",
     "text": [
      "[inf, 2, 3, 3, 2, 3]\n",
      "[0, 2, 0, 2, 3, 3]\n"
     ]
    }
   ],
   "source": [
    "_ = float('inf') # 正无穷\n",
    "\n",
    "def prim(graph,n):\n",
    "    dist=[_]*n # 记录最短权值\n",
    "    visit=[False]*n # 记录是否连通(去过)\n",
    "    preIndex=[0]*n # 记录每次寻找的起点\n",
    "    \n",
    "#     # 第一个顶点\n",
    "#     visit[0] = True\n",
    "#     for i in range(n): # 相邻的边权值\n",
    "#         dist[i] = graph[0][i] \n",
    "    \n",
    "    # 找到当前无向图的最小生成树\n",
    "    for i in range(n):\n",
    "        mindist=_+1\n",
    "        nextIndex = 0\n",
    "        # 扫描Scan：找到基于当前i，i行中哪一列距离最小作为下一个节点，前提是那个节点没有去过\n",
    "        for j in range(n):\n",
    "            if dist[j]< mindist and not visit[j]: # visit[j] == False\n",
    "                mindist = dist[j]\n",
    "                nextIndex =j \n",
    "        visit[nextIndex]= True # 添加Add\n",
    "        \n",
    "        # 更新Update：由于前面找到下一个节点了，下面构建下一个节点的dist矩阵，要看nextIndex这一行\n",
    "        for j in range(n):\n",
    "            if dist[j]>graph[nextIndex][j] and not visit[j]: # visit[j] == False\n",
    "                dist[j]=graph[nextIndex][j]\n",
    "                preIndex[j]=nextIndex\n",
    "                \n",
    "    return dist,preIndex\n",
    "\n",
    "if __name__=='__main__':\n",
    "    n=6\n",
    "    # A到B的权重是6\n",
    "    graph=[[0,6,3,_,_,_],\n",
    "           [6,0,2,5,_,_],\n",
    "           [3,2,0,3,4,_],\n",
    "           [_,5,3,0,2,3],\n",
    "           [_,_,4,2,0,5],\n",
    "           [_,_,_,3,5,0]]\n",
    "    \n",
    "    dist,preIndex=prim(graph,n)\n",
    "    print(dist)\n",
    "    print(preIndex)"
   ]
  },
  {
   "cell_type": "markdown",
   "id": "fb893704",
   "metadata": {},
   "source": [
    "###  算法提高 最小生成树\n",
    "给定带权无向图，求出一颗最小的生成树。\n",
    "\n",
    "输入格式：\n",
    "输入多组测试数据。第一行为N,M，依次是点数和边数。接下来M行，每行三个整数U,V,W，代表连接U,V的边，和权值W。保证图连通。n=m=0标志着测试文件的结束。\n",
    "\n",
    "输出格式：\n",
    "对于每组数据，输出方差，四舍五入到0.01。输出格式按照样例。"
   ]
  },
  {
   "cell_type": "code",
   "execution_count": 2,
   "id": "690a33e3",
   "metadata": {},
   "outputs": [
    {
     "name": "stdout",
     "output_type": "stream",
     "text": [
      "4 5\n",
      "1 2 1\n",
      "2 3 2\n",
      "3 4 2\n",
      "4 1 1\n",
      "2 4 3\n",
      "[[0, 1, inf, inf], [inf, 0, 2, 3], [inf, inf, 0, 2], [1, inf, inf, 0]]\n"
     ]
    }
   ],
   "source": [
    "# 图初始化\n",
    "N,M = map(int,input().split())\n",
    "_ = float('inf')\n",
    "graph =[[_ for i in range(N)]for i in range(N)]\n",
    "\n",
    "# 读图\n",
    "for i in range(M):\n",
    "    U,V,W = map(int,input().split())\n",
    "    graph[U-1][V-1] = W\n",
    "for i in range(N):\n",
    "    graph[i][i] = 0\n",
    "print(graph)"
   ]
  },
  {
   "cell_type": "code",
   "execution_count": 7,
   "id": "65108d49",
   "metadata": {},
   "outputs": [
    {
     "name": "stdout",
     "output_type": "stream",
     "text": [
      "[inf, 2, 3, 3, 2, 3]\n",
      "[0, 2, 0, 2, 3, 3]\n"
     ]
    }
   ],
   "source": [
    "# 读图 \n",
    "_ = float('inf')\n",
    "def Prim(graph,n):\n",
    "    dist=[_]*n #记录最短权值\n",
    "    preIndex=[0]*n #记录出发点\n",
    "    visit=[False]*n #记录是否访问过\n",
    "    \n",
    "    for i in range(n):\n",
    "        # 扫描Scan\n",
    "        mindist = _\n",
    "        nextIndex = -1\n",
    "        for j in range(n):\n",
    "            if dist[j] < mindist and not visit[j]:\n",
    "                mindist = dist[j]\n",
    "                nextIndex = j\n",
    "                \n",
    "        # 添加Add\n",
    "#         preIndex[i] = nextIndex\n",
    "        visit[nextIndex] = True\n",
    "        \n",
    "        # 更新Update\n",
    "        for j in range(n):\n",
    "            if dist[j] > graph[nextIndex][j] and not visit[j]:\n",
    "                dist[j] = graph[nextIndex][j]\n",
    "                preIndex[i] = nextIndex\n",
    "        \n",
    "        return dist,preIndex\n",
    "        \n",
    "if __name__=='__main__':\n",
    "    n=6\n",
    "    # A到B的权重是6\n",
    "    graph=[[0,6,3,_,_,_],\n",
    "           [6,0,2,5,_,_],\n",
    "           [3,2,0,3,4,_],\n",
    "           [_,5,3,0,2,3],\n",
    "           [_,_,4,2,0,5],\n",
    "           [_,_,_,3,5,0]]\n",
    "    \n",
    "    dist,preIndex=prim(graph,n)\n",
    "    print(dist)\n",
    "    print(preIndex)            "
   ]
  },
  {
   "cell_type": "code",
   "execution_count": null,
   "id": "cc2c134f",
   "metadata": {},
   "outputs": [],
   "source": [
    "总结：\n",
    "\n",
    "① 二维数组初始化 graph =[[_ for i in range(N)]for i in range(N)]\n",
    "\n",
    "② 初始化。一个访问与否bool visit，一个起始节点，一个最短路径。\n",
    "\n",
    "③ 扫描Scan，添加Add，更新Update\n"
   ]
  },
  {
   "cell_type": "code",
   "execution_count": null,
   "id": "7f65371e",
   "metadata": {},
   "outputs": [],
   "source": []
  }
 ],
 "metadata": {
  "kernelspec": {
   "display_name": "Python 3 (ipykernel)",
   "language": "python",
   "name": "python3"
  },
  "language_info": {
   "codemirror_mode": {
    "name": "ipython",
    "version": 3
   },
   "file_extension": ".py",
   "mimetype": "text/x-python",
   "name": "python",
   "nbconvert_exporter": "python",
   "pygments_lexer": "ipython3",
   "version": "3.9.7"
  }
 },
 "nbformat": 4,
 "nbformat_minor": 5
}
