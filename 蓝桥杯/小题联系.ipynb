{
 "cells": [
  {
   "cell_type": "markdown",
   "id": "45fbc65b",
   "metadata": {},
   "source": [
    "（1）一个字符串的非空子串是指字符串中长度至少为 1 的连续的一段字符组成 的串。例如，字符串aaab 有非空子串a, b, aa, ab, aaa, aab, aaab，一共 7 个。 注意在计算时，只算本质不同的串的个数。 请问，字符串0100110001010001 有多少个不同的非空子串？"
   ]
  },
  {
   "cell_type": "code",
   "execution_count": 51,
   "id": "e2b65b13",
   "metadata": {},
   "outputs": [
    {
     "name": "stdout",
     "output_type": "stream",
     "text": [
      "100\n"
     ]
    }
   ],
   "source": [
    "s = '0100110001010001'\n",
    "subs = []\n",
    "\n",
    "for i in range(len(s)+1):\n",
    "    for j in range(i+1, len(s)+1):\n",
    "        if(s[i:j] not in subs):\n",
    "            subs.append(s[i:j])\n",
    "print(len(subs))"
   ]
  },
  {
   "cell_type": "markdown",
   "id": "ca09fea8",
   "metadata": {},
   "source": [
    "(2)给定数列 1, 1, 1, 3, 5, 9, 17, …，从第 4 项开始，每项都是前 3 项的和。求 第 20190324 项的最后 4 位数字。"
   ]
  },
  {
   "cell_type": "code",
   "execution_count": 21,
   "id": "6ba46945",
   "metadata": {},
   "outputs": [
    {
     "name": "stdout",
     "output_type": "stream",
     "text": [
      "1\n",
      "4659\n"
     ]
    }
   ],
   "source": [
    "a=[1 for _ in range(3)]\n",
    "print(a[0])\n",
    "for i in range(3,20190324,1):\n",
    "#     print(a[i-1])\n",
    "    a.append((a[i-3]+a[i-2]+a[i-1])%10000)\n",
    "print(a[20190323])"
   ]
  },
  {
   "cell_type": "markdown",
   "id": "b415587a",
   "metadata": {},
   "source": [
    "总结：①一定要注意range从0开始\n",
    "\n",
    "②列表初始化a=[1 for _ in range(3)]，列表添加元素a.append(1)"
   ]
  },
  {
   "cell_type": "markdown",
   "id": "463e1dbd",
   "metadata": {},
   "source": [
    "（3）把 2019 分解成 3 个各不相同的正整数之和，并且要求每个正整数都不包 含数字 2 和 4，一共有多少种不同的分解方法？ 注意交换 3 个整数的顺序被视为同一种方法，例如 1000+1001+18 和 1001+1000+18 被视为同一种。"
   ]
  },
  {
   "cell_type": "code",
   "execution_count": 50,
   "id": "fb3897f8",
   "metadata": {},
   "outputs": [
    {
     "name": "stdout",
     "output_type": "stream",
     "text": [
      "40785\n"
     ]
    }
   ],
   "source": [
    "tmp = 0\n",
    "\n",
    "def check(n):\n",
    "    for i in str(n):\n",
    "        if i == '2' or i == '4':\n",
    "            return False\n",
    "    return True\n",
    "\n",
    "for i in range(1,2018):\n",
    "    for j in range(i+1,2018):\n",
    "        k = 2019-i-j\n",
    "        if k >j and check(i) and check(j) and check(k):\n",
    "            tmp = tmp + 1\n",
    "\n",
    "print(tmp)"
   ]
  },
  {
   "cell_type": "code",
   "execution_count": 47,
   "id": "8b5c4a1f",
   "metadata": {},
   "outputs": [
    {
     "name": "stdout",
     "output_type": "stream",
     "text": [
      "1\n",
      "False\n"
     ]
    }
   ],
   "source": [
    "def check(n):\n",
    "    for i in str(n):\n",
    "        if i == '2' or i == '4':\n",
    "            print(1)\n",
    "            return False\n",
    "    return True\n",
    "        \n",
    "print(check(2))"
   ]
  },
  {
   "cell_type": "markdown",
   "id": "a56df70f",
   "metadata": {},
   "source": [
    "总结：①注意审题：各不相同的正整数\n",
    "②小题尽可能准确，不要在意时间复杂度等\n",
    "③注意==的比较对象，如果是字符串要交\"\""
   ]
  },
  {
   "cell_type": "markdown",
   "id": "9583c30f",
   "metadata": {},
   "source": [
    "(4)年号字串\n",
    "\n",
    "小明用字母 A 对应数字1，B 对应2，以此类推，用 Z 对应26。对于27以上的数字，小明用两位或更长位的字符串来对应，例如AA 对应 27，AB 对应28，AZ 对应52，LQ 对 329。\n",
    "\n",
    "请问2019 对应的字符串是什么？"
   ]
  },
  {
   "cell_type": "code",
   "execution_count": 53,
   "id": "a12299fb",
   "metadata": {},
   "outputs": [
    {
     "name": "stdout",
     "output_type": "stream",
     "text": [
      "[17, 25, 2]\n",
      "BYQ"
     ]
    }
   ],
   "source": [
    "str1 = 'ABCDEFGHIJKLMNOPQRSTUVWXYZ'\n",
    "yu = []\n",
    "num=2019\n",
    "while num >= 26:\n",
    "    yu.append(num%26)\n",
    "    num = num//26\n",
    "yu.append(num)\n",
    "print(yu)\n",
    "\n",
    "for i in yu[::-1]:\n",
    "    print(str1[i-1],end='')"
   ]
  },
  {
   "cell_type": "markdown",
   "id": "362c6200",
   "metadata": {},
   "source": [
    "(5)卡片"
   ]
  },
  {
   "cell_type": "code",
   "execution_count": 59,
   "id": "b248b2ec",
   "metadata": {},
   "outputs": [
    {
     "name": "stdout",
     "output_type": "stream",
     "text": [
      "3181\n"
     ]
    }
   ],
   "source": [
    "count = 0\n",
    "for i in range(10000):\n",
    "    if count > 2019:\n",
    "        print(i-1)\n",
    "        break\n",
    "    for j in str(i):\n",
    "        if j == \"1\":\n",
    "            count = count+1"
   ]
  },
  {
   "cell_type": "markdown",
   "id": "a877f58f",
   "metadata": {},
   "source": [
    "总结：①数字1用的最快\n",
    "②注意判断和循环的先后关系"
   ]
  },
  {
   "cell_type": "code",
   "execution_count": 62,
   "id": "4c2fa7d9",
   "metadata": {},
   "outputs": [
    {
     "name": "stdout",
     "output_type": "stream",
     "text": [
      "6\n",
      "10 1 10 20 30 20\n",
      "{1: 1, 10: 2, 20: 2, 30: 1}\n",
      "10\n"
     ]
    }
   ],
   "source": [
    "#出现次数最多的数\n",
    "n = int(input())\n",
    "num = list(map(int,input().split()))\n",
    "\n",
    "b = list(set(num))#化为集合，去掉相同数\n",
    "b.sort()#从小到大排序\n",
    "\n",
    "s = dict(zip(b,map(num.count,b)))#将数与它的出现次数组合再转为字典\n",
    "print(s)\n",
    "print(max(s,key=s.get))#根据字典值选出count最大的数"
   ]
  },
  {
   "cell_type": "markdown",
   "id": "e56407ad",
   "metadata": {},
   "source": [
    "（5）数字中包含2019"
   ]
  },
  {
   "cell_type": "code",
   "execution_count": 65,
   "id": "7282eeda",
   "metadata": {},
   "outputs": [
    {
     "name": "stdout",
     "output_type": "stream",
     "text": [
      "40\n",
      "574\n"
     ]
    }
   ],
   "source": [
    "n = int(input())\n",
    "s = 0\n",
    "\n",
    "for i in range(1, n + 1):\n",
    "    a = i\n",
    "    while a != 0:\n",
    "        temp = a % 10\n",
    "        a = int(a / 10)\n",
    "        if temp in [2, 0, 1, 9]:\n",
    "            s += i\n",
    "            falg = True\n",
    "            break\n",
    "\n",
    "print(s)"
   ]
  },
  {
   "cell_type": "code",
   "execution_count": 67,
   "id": "5275447d",
   "metadata": {},
   "outputs": [
    {
     "name": "stdout",
     "output_type": "stream",
     "text": [
      "574\n"
     ]
    }
   ],
   "source": [
    "n = 40\n",
    "sum1 = 0\n",
    "\n",
    "for i in range(1,n+1):\n",
    "    for j in str(i):\n",
    "        if j == \"2\" or j == \"0\" or j == \"1\" or j ==\"9\":\n",
    "            sum1 = sum1 + i\n",
    "            break\n",
    "\n",
    "print(sum1)"
   ]
  },
  {
   "cell_type": "markdown",
   "id": "c3e0b8d8",
   "metadata": {},
   "source": [
    "（6）跑步\n",
    "\n",
    "小明坚持每天跑步，正常情况下每天跑一公里，如果这一天是周一或者月初（每月的一号），那么小明就会跑两公里（如果这一天既是周一，又是月初，小明也是跑两公里），小明从2000年1月1日（周六）一直坚持到了2020年10月1日（周四），请你计算一下小明共跑了多少公里？"
   ]
  },
  {
   "cell_type": "code",
   "execution_count": 1,
   "id": "33f4081f",
   "metadata": {},
   "outputs": [
    {
     "name": "stdout",
     "output_type": "stream",
     "text": [
      "8879\n"
     ]
    }
   ],
   "source": [
    "from datetime import *\n",
    "start = date(2000,1,1)\n",
    "end = date(2020,10,2)\n",
    "tmp = timedelta(days = 1)\n",
    "ans = 0\n",
    "while start != end:\n",
    "    if start.weekday() == 0 or start.day == 1:\n",
    "        ans += 2\n",
    "    else:\n",
    "        ans += 1\n",
    "    start = start + tmp\n",
    "print(ans)"
   ]
  },
  {
   "cell_type": "code",
   "execution_count": 14,
   "id": "1d72612a",
   "metadata": {},
   "outputs": [
    {
     "name": "stdout",
     "output_type": "stream",
     "text": [
      "2000-01-01 start.day == 1\n",
      "2000-01-02 start.weekday() == 6\n",
      "6054\n"
     ]
    }
   ],
   "source": [
    "from datetime import *\n",
    "start = date(2000,1,1)\n",
    "end = date(2000,1,7)\n",
    "tmp = timedelta(days = 1)\n",
    "while start != end:\n",
    "    if start.weekday() == 6:\n",
    "        print(start,\"start.weekday() == 6\")\n",
    "    if start.day == 1:\n",
    "        print(start,\"start.day == 1\")\n",
    "    start = start + tmp\n",
    "print(ans)"
   ]
  },
  {
   "cell_type": "markdown",
   "id": "3e8b7ae2",
   "metadata": {},
   "source": [
    "总结：①datetime库\n",
    "\n",
    "②start.weekday() == 0判断是否为星期一\n",
    "\n",
    "③start.day == 1判断是否为月初第一天"
   ]
  },
  {
   "cell_type": "markdown",
   "id": "78c6fe38",
   "metadata": {},
   "source": [
    "（7）矩形切割"
   ]
  },
  {
   "cell_type": "code",
   "execution_count": 16,
   "id": "0364123f",
   "metadata": {},
   "outputs": [
    {
     "name": "stdout",
     "output_type": "stream",
     "text": [
      "21\n"
     ]
    }
   ],
   "source": [
    "a = 2019\n",
    "b = 324\n",
    "i = 0\n",
    "\n",
    "while min(a,b)>0:\n",
    "    if a>b:\n",
    "        a=a-b\n",
    "    elif b>a:\n",
    "        b=b-a\n",
    "    else:\n",
    "        break\n",
    "    i = i+1\n",
    "print(i+1)"
   ]
  },
  {
   "cell_type": "code",
   "execution_count": null,
   "id": "9c3abd13",
   "metadata": {},
   "outputs": [],
   "source": []
  }
 ],
 "metadata": {
  "kernelspec": {
   "display_name": "Python 3 (ipykernel)",
   "language": "python",
   "name": "python3"
  },
  "language_info": {
   "codemirror_mode": {
    "name": "ipython",
    "version": 3
   },
   "file_extension": ".py",
   "mimetype": "text/x-python",
   "name": "python",
   "nbconvert_exporter": "python",
   "pygments_lexer": "ipython3",
   "version": "3.9.7"
  }
 },
 "nbformat": 4,
 "nbformat_minor": 5
}
