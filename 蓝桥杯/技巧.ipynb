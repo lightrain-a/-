{
 "cells": [
  {
   "cell_type": "markdown",
   "id": "ca533993",
   "metadata": {},
   "source": [
    "## 一、内置函数"
   ]
  },
  {
   "cell_type": "markdown",
   "id": "919058b5",
   "metadata": {},
   "source": [
    "### 1.数学函数"
   ]
  },
  {
   "cell_type": "code",
   "execution_count": 1,
   "id": "c8c89b75",
   "metadata": {},
   "outputs": [
    {
     "name": "stdout",
     "output_type": "stream",
     "text": [
      "10\n"
     ]
    }
   ],
   "source": [
    "# 绝对值\n",
    "print(abs(-10))"
   ]
  },
  {
   "cell_type": "code",
   "execution_count": 2,
   "id": "cc830cd6",
   "metadata": {},
   "outputs": [
    {
     "name": "stdout",
     "output_type": "stream",
     "text": [
      "(3, 1)\n"
     ]
    }
   ],
   "source": [
    "# divmod() 函数 ：同时取商和余数\n",
    "print(divmod(7,2))"
   ]
  },
  {
   "cell_type": "code",
   "execution_count": 3,
   "id": "cb28644d",
   "metadata": {},
   "outputs": [
    {
     "name": "stdout",
     "output_type": "stream",
     "text": [
      "6\n"
     ]
    }
   ],
   "source": [
    "print(sum([1,2,3]))"
   ]
  },
  {
   "cell_type": "code",
   "execution_count": 4,
   "id": "8bbde937",
   "metadata": {},
   "outputs": [
    {
     "name": "stdout",
     "output_type": "stream",
     "text": [
      "5\n",
      "6\n"
     ]
    }
   ],
   "source": [
    "# 四舍五入\n",
    "print(round(5.1))\n",
    "print(round(5.5))"
   ]
  },
  {
   "cell_type": "code",
   "execution_count": 5,
   "id": "372e81c8",
   "metadata": {},
   "outputs": [
    {
     "name": "stdout",
     "output_type": "stream",
     "text": [
      "8\n",
      "8\n"
     ]
    }
   ],
   "source": [
    "print(pow(2,3))\n",
    "#也可以使用**\n",
    "print(2**3)"
   ]
  },
  {
   "cell_type": "code",
   "execution_count": 6,
   "id": "b395faba",
   "metadata": {},
   "outputs": [
    {
     "name": "stdout",
     "output_type": "stream",
     "text": [
      "2\n"
     ]
    }
   ],
   "source": [
    "print(min(9,5,2,7))"
   ]
  },
  {
   "cell_type": "code",
   "execution_count": 7,
   "id": "86f1eda2",
   "metadata": {},
   "outputs": [
    {
     "name": "stdout",
     "output_type": "stream",
     "text": [
      "9\n"
     ]
    }
   ],
   "source": [
    "print(max(9,5,2,7))"
   ]
  },
  {
   "cell_type": "markdown",
   "id": "cd2024c4",
   "metadata": {},
   "source": [
    "### 2.数据转换函数"
   ]
  },
  {
   "cell_type": "code",
   "execution_count": 8,
   "id": "5346ebae",
   "metadata": {},
   "outputs": [
    {
     "name": "stdout",
     "output_type": "stream",
     "text": [
      "0x64\n"
     ]
    }
   ],
   "source": [
    "# hex() 函数： 十进制转换成十六进制\n",
    "print(hex(100))"
   ]
  },
  {
   "cell_type": "code",
   "execution_count": 9,
   "id": "065a72bb",
   "metadata": {},
   "outputs": [
    {
     "name": "stdout",
     "output_type": "stream",
     "text": [
      "0o144\n"
     ]
    }
   ],
   "source": [
    "# oct() 函数： 十进制转换成八进制\n",
    "print(oct(100))"
   ]
  },
  {
   "cell_type": "code",
   "execution_count": 10,
   "id": "96ab59f4",
   "metadata": {},
   "outputs": [
    {
     "name": "stdout",
     "output_type": "stream",
     "text": [
      "0b1100100\n"
     ]
    }
   ],
   "source": [
    "# bin() 函数 ：十进制转换成二进制\n",
    "print(bin(100))"
   ]
  },
  {
   "cell_type": "code",
   "execution_count": 11,
   "id": "930b06a3",
   "metadata": {},
   "outputs": [
    {
     "name": "stdout",
     "output_type": "stream",
     "text": [
      "True\n",
      "False\n"
     ]
    }
   ],
   "source": [
    "# bool() 函数 ：将指定的参数转换成布尔类型\n",
    "print(bool(1))\n",
    "print(bool(0))"
   ]
  },
  {
   "cell_type": "code",
   "execution_count": 12,
   "id": "de79126e",
   "metadata": {},
   "outputs": [
    {
     "name": "stdout",
     "output_type": "stream",
     "text": [
      "65\n"
     ]
    }
   ],
   "source": [
    "# ord() 函数 ：获取单个字符的ASCII数值\n",
    "print(ord('A'))"
   ]
  },
  {
   "cell_type": "code",
   "execution_count": 13,
   "id": "68568b9f",
   "metadata": {},
   "outputs": [
    {
     "name": "stdout",
     "output_type": "stream",
     "text": [
      "10.0\n"
     ]
    }
   ],
   "source": [
    "# float() 函数 ：转换成浮点数\n",
    "print(float(10))"
   ]
  },
  {
   "cell_type": "code",
   "execution_count": 14,
   "id": "1e2387c0",
   "metadata": {},
   "outputs": [
    {
     "name": "stdout",
     "output_type": "stream",
     "text": [
      "A\n"
     ]
    }
   ],
   "source": [
    "# chr() 函数： 转换一个整数并返回所对应的字符\n",
    "print(chr(65))"
   ]
  },
  {
   "cell_type": "code",
   "execution_count": 15,
   "id": "291a68c7",
   "metadata": {},
   "outputs": [
    {
     "name": "stdout",
     "output_type": "stream",
     "text": [
      "[1, 2, 3, 4, 5, 6, 7, 8, 9]\n"
     ]
    }
   ],
   "source": [
    "# list() 函数： 将可迭代对象转换为列表\n",
    "print(list(range(1,10)))\n"
   ]
  },
  {
   "cell_type": "markdown",
   "id": "2000c048",
   "metadata": {},
   "source": [
    "### 3.对象创建函数"
   ]
  },
  {
   "cell_type": "code",
   "execution_count": 16,
   "id": "722345e1",
   "metadata": {},
   "outputs": [
    {
     "name": "stdout",
     "output_type": "stream",
     "text": [
      "Hello Python\n",
      "\n"
     ]
    }
   ],
   "source": [
    "# open()函数：打开文件并返回文件对象\n",
    "f1 = open('Hello.txt','r')\n",
    "print(f1.readline())"
   ]
  },
  {
   "cell_type": "code",
   "execution_count": 17,
   "id": "c257fe03",
   "metadata": {},
   "outputs": [
    {
     "data": {
      "text/plain": [
       "{1, 2, 3, 4, 5, 6}"
      ]
     },
     "execution_count": 17,
     "metadata": {},
     "output_type": "execute_result"
    }
   ],
   "source": [
    "# set()函数：创建一个无序不重复元素集合\n",
    "set([1,2,1,1,3,4,4,6,5])"
   ]
  },
  {
   "cell_type": "markdown",
   "id": "b52ba6ae",
   "metadata": {},
   "source": [
    "### 4.迭代器操作函数"
   ]
  },
  {
   "cell_type": "code",
   "execution_count": 18,
   "id": "53f51e6a",
   "metadata": {},
   "outputs": [
    {
     "data": {
      "text/plain": [
       "False"
      ]
     },
     "execution_count": 18,
     "metadata": {},
     "output_type": "execute_result"
    }
   ],
   "source": [
    "a = [1,2,0]\n",
    "all(a)"
   ]
  },
  {
   "cell_type": "code",
   "execution_count": 19,
   "id": "9aae10bd",
   "metadata": {},
   "outputs": [
    {
     "data": {
      "text/plain": [
       "True"
      ]
     },
     "execution_count": 19,
     "metadata": {},
     "output_type": "execute_result"
    }
   ],
   "source": [
    "any(a)"
   ]
  },
  {
   "cell_type": "code",
   "execution_count": 20,
   "id": "01cdcb35",
   "metadata": {},
   "outputs": [
    {
     "data": {
      "text/plain": [
       "[1, 2, 3, 4]"
      ]
     },
     "execution_count": 20,
     "metadata": {},
     "output_type": "execute_result"
    }
   ],
   "source": [
    "# sorted() 函数： 对可迭代对象进行排序\n",
    "a = [3,1,4,2]\n",
    "sorted(a)"
   ]
  },
  {
   "cell_type": "code",
   "execution_count": 21,
   "id": "93d4b160",
   "metadata": {},
   "outputs": [
    {
     "data": {
      "text/plain": [
       "[1, 2, 3]"
      ]
     },
     "execution_count": 21,
     "metadata": {},
     "output_type": "execute_result"
    }
   ],
   "source": [
    "# map()函数： 通过自定义函数实现对序列的元素映射操作并返回操作后的结果\n",
    "list(map(int,['1','2','3']))"
   ]
  },
  {
   "cell_type": "markdown",
   "id": "a16c2a5a",
   "metadata": {},
   "source": [
    "### 5.基本常用函数"
   ]
  },
  {
   "cell_type": "code",
   "execution_count": 42,
   "id": "c5dd67e7",
   "metadata": {},
   "outputs": [
    {
     "name": "stdout",
     "output_type": "stream",
     "text": [
      "hello world\n",
      "3.14\n"
     ]
    }
   ],
   "source": [
    "print(\"{} {}\".format(\"hello\", \"world\"))\n",
    "print(\"{:.2f}\".format(3.1415926));"
   ]
  },
  {
   "cell_type": "markdown",
   "id": "4c1af6ef",
   "metadata": {},
   "source": [
    "## 二、字符串操作"
   ]
  },
  {
   "cell_type": "code",
   "execution_count": 23,
   "id": "8bb35ebc",
   "metadata": {},
   "outputs": [],
   "source": [
    "string = \"123455\"\n",
    "str0 = \"1\""
   ]
  },
  {
   "cell_type": "code",
   "execution_count": 24,
   "id": "25b43839",
   "metadata": {},
   "outputs": [
    {
     "data": {
      "text/plain": [
       "1"
      ]
     },
     "execution_count": 24,
     "metadata": {},
     "output_type": "execute_result"
    }
   ],
   "source": [
    "# 返回 str 在 string 里面出现的次数\n",
    "# 如果 beg 或者 end 指定,则返回指定范围内 str 出现的次数\n",
    "# string.count(str0, beg=0, end=len(string))\n",
    "string.count(str0, 0, len(string))"
   ]
  },
  {
   "cell_type": "code",
   "execution_count": 25,
   "id": "5d2a9947",
   "metadata": {},
   "outputs": [
    {
     "name": "stdout",
     "output_type": "stream",
     "text": [
      "False\n",
      "True\n"
     ]
    }
   ],
   "source": [
    "# string.endswith(obj, beg=0, end=len(string))\n",
    "print(string.endswith(str0, 0, len(string)))\n",
    "print(string.endswith(\"5\", 0, len(string)))"
   ]
  },
  {
   "cell_type": "code",
   "execution_count": 26,
   "id": "7f8f297e",
   "metadata": {},
   "outputs": [
    {
     "data": {
      "text/plain": [
       "0"
      ]
     },
     "execution_count": 26,
     "metadata": {},
     "output_type": "execute_result"
    }
   ],
   "source": [
    "# 检测 str 是否包含在 string 中，如果是返回开始的索引值，否则返回-1\n",
    "# string.find(str, beg=0, end=len(string))\n",
    "string.find(str0, 0, len(string))"
   ]
  },
  {
   "cell_type": "code",
   "execution_count": 27,
   "id": "56440246",
   "metadata": {},
   "outputs": [
    {
     "name": "stdout",
     "output_type": "stream",
     "text": [
      "1 2 3 4 5 5\n"
     ]
    }
   ],
   "source": [
    "# 以 string 作为分隔符，将 seq 中所有的元素(的字符串表示)合并为一个新的字符串\n",
    "# seq.join(string)\n",
    "seq = \" \"\n",
    "print(seq.join(string))"
   ]
  },
  {
   "cell_type": "code",
   "execution_count": 28,
   "id": "58bf45be",
   "metadata": {},
   "outputs": [
    {
     "name": "stdout",
     "output_type": "stream",
     "text": [
      "23455\n",
      "123\n"
     ]
    }
   ],
   "source": [
    "# 截掉字符串左边的空格或指定字符\n",
    "print(string.lstrip(\"13\"))\n",
    "# 删除 string 字符串末尾的指定字符\n",
    "print(string.rstrip(\"554\"))\n",
    "\n",
    "# 匹配时不是按照整个字符串匹配的，而是一个个匹配的"
   ]
  },
  {
   "cell_type": "code",
   "execution_count": 29,
   "id": "ee0456e0",
   "metadata": {},
   "outputs": [
    {
     "name": "stdout",
     "output_type": "stream",
     "text": [
      "AAAA\n",
      "aaaa\n",
      "AaAA\n"
     ]
    }
   ],
   "source": [
    "string1 = \"aAaa\"\n",
    "print(string1.upper())\n",
    "print(string1.lower())\n",
    "print(string1.swapcase()) # 大小写翻转"
   ]
  },
  {
   "cell_type": "code",
   "execution_count": 32,
   "id": "ac8a2533",
   "metadata": {},
   "outputs": [
    {
     "name": "stdout",
     "output_type": "stream",
     "text": [
      "135 456\n"
     ]
    }
   ],
   "source": [
    "# 列表转化为整数\n",
    "a=[1, 3, 5]\n",
    "b=['4', '5', '6']\n",
    "r1 = int(\"\".join(map(str, a))) \n",
    "r2 = int(\"\".join(map(str, b))) \n",
    "print(r1,r2)"
   ]
  },
  {
   "cell_type": "markdown",
   "id": "385dd6eb",
   "metadata": {},
   "source": [
    "## 三、math的使用"
   ]
  },
  {
   "cell_type": "code",
   "execution_count": 33,
   "id": "42d03de3",
   "metadata": {},
   "outputs": [],
   "source": [
    "import math  "
   ]
  },
  {
   "cell_type": "markdown",
   "id": "825bbf4b",
   "metadata": {},
   "source": [
    "### 1.向上取整"
   ]
  },
  {
   "cell_type": "code",
   "execution_count": 34,
   "id": "9ce34626",
   "metadata": {},
   "outputs": [
    {
     "name": "stdout",
     "output_type": "stream",
     "text": [
      "4\n"
     ]
    }
   ],
   "source": [
    "print(math.ceil(3.1))"
   ]
  },
  {
   "cell_type": "markdown",
   "id": "d95ffd37",
   "metadata": {},
   "source": [
    "### 2.向下取整"
   ]
  },
  {
   "cell_type": "code",
   "execution_count": 35,
   "id": "8f37ce22",
   "metadata": {},
   "outputs": [
    {
     "name": "stdout",
     "output_type": "stream",
     "text": [
      "3\n"
     ]
    }
   ],
   "source": [
    "print(math.floor(3.1))"
   ]
  },
  {
   "cell_type": "markdown",
   "id": "cdebb504",
   "metadata": {},
   "source": [
    "### 3.乘方 开方"
   ]
  },
  {
   "cell_type": "code",
   "execution_count": 37,
   "id": "ba7202eb",
   "metadata": {},
   "outputs": [
    {
     "name": "stdout",
     "output_type": "stream",
     "text": [
      "1000.0\n",
      "3.0\n"
     ]
    }
   ],
   "source": [
    "print(math.pow(10,3))\n",
    "print(math.pow(27,1/3))"
   ]
  },
  {
   "cell_type": "markdown",
   "id": "c493039d",
   "metadata": {},
   "source": [
    "## 四、正则表达式"
   ]
  },
  {
   "cell_type": "code",
   "execution_count": 38,
   "id": "c9ff7fb6",
   "metadata": {},
   "outputs": [
    {
     "data": {
      "text/plain": [
       "['123', '456']"
      ]
     },
     "execution_count": 38,
     "metadata": {},
     "output_type": "execute_result"
    }
   ],
   "source": [
    "import re\n",
    "s = 'Regular 123 Expression 456'\n",
    "re.findall(r'\\d+',s)"
   ]
  },
  {
   "cell_type": "markdown",
   "id": "356f88e1",
   "metadata": {},
   "source": [
    "在目标字符串target 中查找符合规则rule 的字符串，后面还可以跟一个规则选项flag用于控制正则表达式的匹配方式，如：是否区分大小写，多行匹配等等。返回结果结果是一个列表，中间存放的是符合规则的字符串。如果没有符合规则的字符串被找到，就返回一个空列表。"
   ]
  },
  {
   "cell_type": "markdown",
   "id": "39fdc66d",
   "metadata": {},
   "source": [
    "^：匹配字符串开头\n",
    "\n",
    "\" * \" 匹配前面的子表达式零次或多次\n",
    "\n",
    "\" + \" 匹配前面的子表达式一次或多次\n",
    "\n",
    "\" ？ \" 匹配前面的子表达式零次或一次\n",
    "\n",
    "\" [abc]\" ：方括号表示字符集合，例子表示一个字符串有一个 \"a\" 或 \"b\" 或 \"c\" 等价于 [z|b|c]\n",
    "\n",
    "\" [a-z]\"： 表示一个字符串中存在一个 a 和 z 之间的所有字母\n",
    "\n",
    "\" [^a-z]\" ：表示一个字符串中不应该出现 a 到 z 之间的任意一个字母\n",
    "\n",
    "\" [0-9]\"： 表示一个字符串中存在一个 0 和 9 之间的所有数字\n",
    "\n",
    "\" \\d \" 匹配一个数字字符，等价[0-9]\n",
    "\n",
    "\" \\D \" 匹配一个非数字字符，等价[^0-9]\n",
    "\n",
    "\" \\w\" 匹配包括下划线的任何单词字符。等价于“[A-Za-z0-9_]”\n",
    "\n",
    "\" \\W\" 匹配任何非单词字符。等价于“[^A-Za-z0-9_]”"
   ]
  },
  {
   "cell_type": "markdown",
   "id": "9dc4a3f5",
   "metadata": {},
   "source": [
    "## 五、文件操作"
   ]
  },
  {
   "cell_type": "code",
   "execution_count": 40,
   "id": "39d82910",
   "metadata": {},
   "outputs": [
    {
     "name": "stdout",
     "output_type": "stream",
     "text": [
      "['Hello Python']\n"
     ]
    }
   ],
   "source": [
    "fp = open('hello.txt','r')\n",
    "res = []\n",
    "s = fp.readlines()\n",
    "for i in s:\n",
    "    res.append(i.strip('\\n')) #使用strip()去掉换行符，如果不去的话会把‘\\n’也读进来\n",
    "fp.close() #记得要关闭连接，养成良好习惯\n",
    "\n",
    "print(res[:])"
   ]
  },
  {
   "cell_type": "code",
   "execution_count": 46,
   "id": "71064d03",
   "metadata": {},
   "outputs": [
    {
     "name": "stdout",
     "output_type": "stream",
     "text": [
      "[(1, 2), (1, 3), (2, 1), (2, 3), (3, 1), (3, 2)] [(1, 2), (1, 3), (2, 3)]\n"
     ]
    }
   ],
   "source": [
    "import itertools\n",
    " \n",
    "s=[1,2,3]#序列\n",
    "#l为排列组合的长度:从序列里面取几个出来\n",
    "l=2\n",
    "x=itertools.permutations(s,l)\n",
    " \n",
    "y=itertools.combinations(s,l)\n",
    " \n",
    "#如果要查看x,y的内容,转化为列表\n",
    "print(list(x),list(y))"
   ]
  },
  {
   "cell_type": "code",
   "execution_count": null,
   "id": "97d53c8f",
   "metadata": {},
   "outputs": [],
   "source": []
  }
 ],
 "metadata": {
  "kernelspec": {
   "display_name": "Python 3 (ipykernel)",
   "language": "python",
   "name": "python3"
  },
  "language_info": {
   "codemirror_mode": {
    "name": "ipython",
    "version": 3
   },
   "file_extension": ".py",
   "mimetype": "text/x-python",
   "name": "python",
   "nbconvert_exporter": "python",
   "pygments_lexer": "ipython3",
   "version": "3.9.7"
  }
 },
 "nbformat": 4,
 "nbformat_minor": 5
}
